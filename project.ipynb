{
  "cells": [
    {
      "cell_type": "markdown",
      "metadata": {
        "id": "zHmk1FCtrjVf"
      },
      "source": [
        "<h1> <center> Project work in Deep Learning </center> </h1>\n",
        "<h2> <center> Song Classification Into Genres Based on Lyrics </center> </h2>\n",
        "\n",
        "<h3> Student: Dinno Koluh (0001034376)</h3>\n",
        "\n",
        "<h4> Introduction </h4>\n",
        "<p>\n",
        "In this project we are going classify songs into genres based on their lyrics. This is inherently a task in the area of NLP (Natural Language Processing), more specifically a <i>text classification</i> problem. In our case the text to be classified is the song lyrics and the different classes are the different genres. This task has substantial real-world usage application as the big music platforms (e.g. Spotify, Deezer, SoundCloud, Apple Music...) are exposed to this task on a daily basis. Even though most classification models on this problem use the sound of the songs as the data we will try to see could also lyrics play a role. Inherently this is a difficult task (more info can be find <a url=\"https://arxiv.org/pdf/1707.04678.pdf\"> here</a>) as a lot of song lyrics might overlap in genres (e.g. a rock, jazz, or indie song might have texts about love or sadness) in contrast to, for example, sentiment analysis as we have a clear distinction between classes.\n",
        "</p>\n",
        "\n",
        "<h4> Dataset </h4>\n",
        "\n",
        "The used dataset was obtained from Kaggle (it can be found <a url=\"https://www.kaggle.com/datasets/mateibejan/multilingual-lyrics-for-genre-classification\"> here</a>). The dataset is comprised of ~300,000 samples with the following features: artist, song title, genre, language, lyrics. During the preprocessing phase we are going reduce the dataset as it is imbalanced and contains noisy data. We will address the issues and the respective solutions in the relevant section.\n",
        "\n",
        "<h4> Architecture to be used </h4>\n",
        "\n",
        "The go-to architecture for NLP tasks used to be RNNs (Recurrent Neural Networks) and their modifications (LSTM, GRU) as we are dealing with sequential data. RNNs are able to capture contextual information as they are able to store information from previous inputs (they have a limited amount of memory). But this fact is also a bottleneck as RNNs have long-term dependency issues (information about a fact stated at the beginning of a document is lost at some point) and they are inefficient when training as it is hard to parallelize them to use the massive power of GPUs for training.\n",
        "\n",
        "Nowadays the most popular architecture used in NLP tasks is the Transformer. The two problems RNNs have, the Transformer model solves using the <i> attention </i> mechanism which enables to capture dependencies between distant words in text and input sequences can be processed in parallel making the Transformer model highly efficient. We are going to use the BERT(Bidirectional Encoder Representations from Transformer) language model, more specifically we will build a neural network on top of the BERT model and use it's hidden states as the input for the NN network and classify the songs. We are going to dive more into the architecture of BERT and the NN when we start to build the model for the classification task."
      ]
    },
    {
      "cell_type": "code",
      "execution_count": 55,
      "metadata": {
        "colab": {
          "base_uri": "https://localhost:8080/"
        },
        "id": "-gNNTyXirjVo",
        "outputId": "428ab8b7-e4ad-417a-81e3-6cf909341a3b"
      },
      "outputs": [
        {
          "output_type": "stream",
          "name": "stdout",
          "text": [
            "Requirement already satisfied: transformers in /usr/local/lib/python3.10/dist-packages (4.30.2)\n",
            "Requirement already satisfied: filelock in /usr/local/lib/python3.10/dist-packages (from transformers) (3.12.2)\n",
            "Requirement already satisfied: huggingface-hub<1.0,>=0.14.1 in /usr/local/lib/python3.10/dist-packages (from transformers) (0.16.4)\n",
            "Requirement already satisfied: numpy>=1.17 in /usr/local/lib/python3.10/dist-packages (from transformers) (1.22.4)\n",
            "Requirement already satisfied: packaging>=20.0 in /usr/local/lib/python3.10/dist-packages (from transformers) (23.1)\n",
            "Requirement already satisfied: pyyaml>=5.1 in /usr/local/lib/python3.10/dist-packages (from transformers) (6.0)\n",
            "Requirement already satisfied: regex!=2019.12.17 in /usr/local/lib/python3.10/dist-packages (from transformers) (2022.10.31)\n",
            "Requirement already satisfied: requests in /usr/local/lib/python3.10/dist-packages (from transformers) (2.27.1)\n",
            "Requirement already satisfied: tokenizers!=0.11.3,<0.14,>=0.11.1 in /usr/local/lib/python3.10/dist-packages (from transformers) (0.13.3)\n",
            "Requirement already satisfied: safetensors>=0.3.1 in /usr/local/lib/python3.10/dist-packages (from transformers) (0.3.1)\n",
            "Requirement already satisfied: tqdm>=4.27 in /usr/local/lib/python3.10/dist-packages (from transformers) (4.65.0)\n",
            "Requirement already satisfied: fsspec in /usr/local/lib/python3.10/dist-packages (from huggingface-hub<1.0,>=0.14.1->transformers) (2023.6.0)\n",
            "Requirement already satisfied: typing-extensions>=3.7.4.3 in /usr/local/lib/python3.10/dist-packages (from huggingface-hub<1.0,>=0.14.1->transformers) (4.6.3)\n",
            "Requirement already satisfied: urllib3<1.27,>=1.21.1 in /usr/local/lib/python3.10/dist-packages (from requests->transformers) (1.26.16)\n",
            "Requirement already satisfied: certifi>=2017.4.17 in /usr/local/lib/python3.10/dist-packages (from requests->transformers) (2023.5.7)\n",
            "Requirement already satisfied: charset-normalizer~=2.0.0 in /usr/local/lib/python3.10/dist-packages (from requests->transformers) (2.0.12)\n",
            "Requirement already satisfied: idna<4,>=2.5 in /usr/local/lib/python3.10/dist-packages (from requests->transformers) (3.4)\n",
            "Requirement already satisfied: contractions in /usr/local/lib/python3.10/dist-packages (0.1.73)\n",
            "Requirement already satisfied: textsearch>=0.0.21 in /usr/local/lib/python3.10/dist-packages (from contractions) (0.0.24)\n",
            "Requirement already satisfied: anyascii in /usr/local/lib/python3.10/dist-packages (from textsearch>=0.0.21->contractions) (0.3.2)\n",
            "Requirement already satisfied: pyahocorasick in /usr/local/lib/python3.10/dist-packages (from textsearch>=0.0.21->contractions) (2.0.0)\n"
          ]
        }
      ],
      "source": [
        "!pip install transformers\n",
        "!pip install contractions\n",
        "import pandas as pd\n",
        "import nltk\n",
        "from nltk.tokenize import word_tokenize\n",
        "import contractions\n",
        "import re\n",
        "from ast import literal_eval\n",
        "import numpy as np\n",
        "from sklearn.preprocessing import LabelEncoder\n",
        "import matplotlib.pyplot as plt\n",
        "# NN importing\n",
        "import tensorflow as tf\n",
        "from tensorflow.keras.layers import Input, Dense, GlobalAveragePooling1D, Dropout\n",
        "from tensorflow.keras.models import Model\n",
        "from transformers import TFAutoModel, AutoTokenizer, TFBertModel"
      ]
    },
    {
      "cell_type": "code",
      "execution_count": null,
      "metadata": {
        "id": "gWbbB6wzrjVs",
        "outputId": "55693433-b8ba-4773-e2f4-2dd66c44c16e"
      },
      "outputs": [
        {
          "name": "stderr",
          "output_type": "stream",
          "text": [
            "[nltk_data] Downloading package wordnet to\n",
            "[nltk_data]     C:\\Users\\pc\\AppData\\Roaming\\nltk_data...\n",
            "[nltk_data]   Package wordnet is already up-to-date!\n"
          ]
        },
        {
          "data": {
            "text/plain": [
              "True"
            ]
          },
          "execution_count": 22,
          "metadata": {},
          "output_type": "execute_result"
        }
      ],
      "source": [
        "nltk.download(\"wordnet\") # package for the needs of the nltk library"
      ]
    },
    {
      "cell_type": "markdown",
      "metadata": {
        "id": "JJtqKkFsrjVt"
      },
      "source": [
        "<h4> Data preprocessing </h4>"
      ]
    },
    {
      "cell_type": "code",
      "execution_count": null,
      "metadata": {
        "id": "MDwPw7MBrjVt"
      },
      "outputs": [],
      "source": [
        "df_train = pd.read_csv('data/train.csv')\n",
        "df_test = pd.read_csv('data/test.csv')"
      ]
    },
    {
      "cell_type": "code",
      "execution_count": null,
      "metadata": {
        "id": "vlb2BL5UrjVt",
        "outputId": "3f5572bc-358c-457e-f33e-b4757f9599fa"
      },
      "outputs": [
        {
          "data": {
            "text/html": [
              "<div>\n",
              "<style scoped>\n",
              "    .dataframe tbody tr th:only-of-type {\n",
              "        vertical-align: middle;\n",
              "    }\n",
              "\n",
              "    .dataframe tbody tr th {\n",
              "        vertical-align: top;\n",
              "    }\n",
              "\n",
              "    .dataframe thead th {\n",
              "        text-align: right;\n",
              "    }\n",
              "</style>\n",
              "<table border=\"1\" class=\"dataframe\">\n",
              "  <thead>\n",
              "    <tr style=\"text-align: right;\">\n",
              "      <th></th>\n",
              "      <th>Artist</th>\n",
              "      <th>Song</th>\n",
              "      <th>Genre</th>\n",
              "      <th>Language</th>\n",
              "      <th>Lyrics</th>\n",
              "    </tr>\n",
              "  </thead>\n",
              "  <tbody>\n",
              "    <tr>\n",
              "      <th>0</th>\n",
              "      <td>12 stones</td>\n",
              "      <td>world so cold</td>\n",
              "      <td>Rock</td>\n",
              "      <td>en</td>\n",
              "      <td>It starts with pain, followed by hate\\nFueled ...</td>\n",
              "    </tr>\n",
              "    <tr>\n",
              "      <th>1</th>\n",
              "      <td>12 stones</td>\n",
              "      <td>broken</td>\n",
              "      <td>Rock</td>\n",
              "      <td>en</td>\n",
              "      <td>Freedom!\\nAlone again again alone\\nPatiently w...</td>\n",
              "    </tr>\n",
              "    <tr>\n",
              "      <th>2</th>\n",
              "      <td>12 stones</td>\n",
              "      <td>3 leaf loser</td>\n",
              "      <td>Rock</td>\n",
              "      <td>en</td>\n",
              "      <td>Biting the hand that feeds you, lying to the v...</td>\n",
              "    </tr>\n",
              "    <tr>\n",
              "      <th>3</th>\n",
              "      <td>12 stones</td>\n",
              "      <td>anthem for the underdog</td>\n",
              "      <td>Rock</td>\n",
              "      <td>en</td>\n",
              "      <td>You say you know just who I am\\nBut you can't ...</td>\n",
              "    </tr>\n",
              "    <tr>\n",
              "      <th>4</th>\n",
              "      <td>12 stones</td>\n",
              "      <td>adrenaline</td>\n",
              "      <td>Rock</td>\n",
              "      <td>en</td>\n",
              "      <td>My heart is beating faster can't control these...</td>\n",
              "    </tr>\n",
              "    <tr>\n",
              "      <th>...</th>\n",
              "      <td>...</td>\n",
              "      <td>...</td>\n",
              "      <td>...</td>\n",
              "      <td>...</td>\n",
              "      <td>...</td>\n",
              "    </tr>\n",
              "    <tr>\n",
              "      <th>291121</th>\n",
              "      <td>bobby womack</td>\n",
              "      <td>i wish he didn t trust me so much</td>\n",
              "      <td>R&amp;B</td>\n",
              "      <td>en</td>\n",
              "      <td>I'm the best friend he's got I'd give him the ...</td>\n",
              "    </tr>\n",
              "    <tr>\n",
              "      <th>291122</th>\n",
              "      <td>bad boys blue</td>\n",
              "      <td>i totally miss you</td>\n",
              "      <td>Pop</td>\n",
              "      <td>en</td>\n",
              "      <td>Bad Boys Blue \"I Totally Miss You\" I did you w...</td>\n",
              "    </tr>\n",
              "    <tr>\n",
              "      <th>291123</th>\n",
              "      <td>celine dion</td>\n",
              "      <td>sorry for love</td>\n",
              "      <td>Pop</td>\n",
              "      <td>en</td>\n",
              "      <td>Forgive me for the things That I never said to...</td>\n",
              "    </tr>\n",
              "    <tr>\n",
              "      <th>291124</th>\n",
              "      <td>dan bern</td>\n",
              "      <td>cure for aids</td>\n",
              "      <td>Indie</td>\n",
              "      <td>en</td>\n",
              "      <td>The day they found a cure for AIDS The day the...</td>\n",
              "    </tr>\n",
              "    <tr>\n",
              "      <th>291125</th>\n",
              "      <td>crawdad republic</td>\n",
              "      <td>iceberg meadows</td>\n",
              "      <td>Pop</td>\n",
              "      <td>en</td>\n",
              "      <td>Fourth of July has come, it's custom that we g...</td>\n",
              "    </tr>\n",
              "  </tbody>\n",
              "</table>\n",
              "<p>291126 rows × 5 columns</p>\n",
              "</div>"
            ],
            "text/plain": [
              "                  Artist                               Song  Genre Language   \n",
              "0              12 stones                      world so cold   Rock       en  \\\n",
              "1              12 stones                             broken   Rock       en   \n",
              "2              12 stones                       3 leaf loser   Rock       en   \n",
              "3              12 stones            anthem for the underdog   Rock       en   \n",
              "4              12 stones                         adrenaline   Rock       en   \n",
              "...                  ...                                ...    ...      ...   \n",
              "291121      bobby womack  i wish he didn t trust me so much    R&B       en   \n",
              "291122     bad boys blue                 i totally miss you    Pop       en   \n",
              "291123       celine dion                     sorry for love    Pop       en   \n",
              "291124          dan bern                      cure for aids  Indie       en   \n",
              "291125  crawdad republic                    iceberg meadows    Pop       en   \n",
              "\n",
              "                                                   Lyrics  \n",
              "0       It starts with pain, followed by hate\\nFueled ...  \n",
              "1       Freedom!\\nAlone again again alone\\nPatiently w...  \n",
              "2       Biting the hand that feeds you, lying to the v...  \n",
              "3       You say you know just who I am\\nBut you can't ...  \n",
              "4       My heart is beating faster can't control these...  \n",
              "...                                                   ...  \n",
              "291121  I'm the best friend he's got I'd give him the ...  \n",
              "291122  Bad Boys Blue \"I Totally Miss You\" I did you w...  \n",
              "291123  Forgive me for the things That I never said to...  \n",
              "291124  The day they found a cure for AIDS The day the...  \n",
              "291125  Fourth of July has come, it's custom that we g...  \n",
              "\n",
              "[291126 rows x 5 columns]"
            ]
          },
          "execution_count": 24,
          "metadata": {},
          "output_type": "execute_result"
        }
      ],
      "source": [
        "df_train"
      ]
    },
    {
      "cell_type": "markdown",
      "metadata": {
        "id": "h2HfDkDDrjVu"
      },
      "source": [
        "We will only work on songs in English, so we will keep only samples in English. After this step we can also drop the language column as it not necessary anymore."
      ]
    },
    {
      "cell_type": "code",
      "execution_count": null,
      "metadata": {
        "id": "Zox05XH_rjVu"
      },
      "outputs": [],
      "source": [
        "en_df_train = df_train[df_train[\"Language\"] == 'en'] # removing non-english languages\n",
        "df_train = en_df_train.drop(columns='Language') # language column now more needed"
      ]
    },
    {
      "cell_type": "markdown",
      "metadata": {
        "id": "aONVDVEsrjVu"
      },
      "source": [
        "Let us now get the unique genres in the genre columns. There will be some noisy data, so we will filter it and just keep the genres that make sense. We will construct a dictionary where the keys will be the genres and the values are the dataframes."
      ]
    },
    {
      "cell_type": "code",
      "execution_count": null,
      "metadata": {
        "id": "m2GSOJJrrjVv",
        "outputId": "e11745c9-9bb9-421d-e758-c68f01c024cf"
      },
      "outputs": [
        {
          "name": "stdout",
          "output_type": "stream",
          "text": [
            "['Rock' 'Metal' 'Pop' 'Indie' 'Folk' 'Electronic' 'R&B' 'Jazz' 'Hip-Hop'\n",
            " 'Country']\n"
          ]
        },
        {
          "name": "stdout",
          "output_type": "stream",
          "text": [
            "Number of training samples: 242027\n",
            "Number of test samples: 7440\n"
          ]
        }
      ],
      "source": [
        "genres = df_train['Genre'].unique() # there is some noisy data\n",
        "print(genres)\n",
        "genres = ['Rock', 'Metal', 'Pop', 'Indie', 'R&B', 'Electronic', 'Jazz', 'Hip-Hop', 'Country'] # the genres that we will keep\n",
        "\n",
        "data_train = {} # dictionary of genres used as keys\n",
        "data_test = {}\n",
        "train_samples = 0 # number of samples\n",
        "test_samples = 0\n",
        "for g in genres:\n",
        "    data_train[g] = df_train[df_train[\"Genre\"] == g]\n",
        "    data_test[g] = df_test[df_test[\"Genre\"] == g]\n",
        "    train_samples += len(data_train[g])\n",
        "    test_samples += len(data_test[g])\n",
        "print(\"Number of training samples: \" + str(train_samples))\n",
        "print(\"Number of test samples: \" + str(test_samples))"
      ]
    },
    {
      "cell_type": "markdown",
      "metadata": {
        "id": "4jY_mxaqrjVw"
      },
      "source": [
        "Let us now inspect the obtained data. For training purposes we should have balanced data across the different classes. So, let us see how classes compare to each other."
      ]
    },
    {
      "cell_type": "code",
      "execution_count": null,
      "metadata": {
        "id": "foTBEHtcrjVw",
        "outputId": "74dcd459-e93b-4e4d-87d0-81ae336ce214"
      },
      "outputs": [
        {
          "name": "stdout",
          "output_type": "stream",
          "text": [
            "Music genre: Rock. Number of samples: 107145. Percentage of dataset: 44.2698541898218.\n",
            "\n",
            "Music genre: Metal. Number of samples: 19133. Percentage of dataset: 7.905316349002384.\n",
            "\n",
            "Music genre: Pop. Number of samples: 86297. Percentage of dataset: 35.655939213393545.\n",
            "\n",
            "Music genre: Indie. Number of samples: 7240. Percentage of dataset: 2.9914017857511763.\n",
            "\n",
            "Music genre: R&B. Number of samples: 2765. Percentage of dataset: 1.1424345217682326.\n",
            "\n",
            "Music genre: Electronic. Number of samples: 2005. Percentage of dataset: 0.8284199696728051.\n",
            "\n",
            "Music genre: Jazz. Number of samples: 13314. Percentage of dataset: 5.50103914026121.\n",
            "\n",
            "Music genre: Hip-Hop. Number of samples: 2238. Percentage of dataset: 0.9246902205125874.\n",
            "\n",
            "Music genre: Country. Number of samples: 1890. Percentage of dataset: 0.7809046098162602.\n",
            "\n"
          ]
        }
      ],
      "source": [
        "def print_data(data, n_samples):\n",
        "    for key in data.keys():\n",
        "        print(\"Music genre: {}. Number of samples: {}. Percentage of dataset: {}.\\n\".format(key, len(data[key]), 100*len(data[key])/n_samples))\n",
        "print_data(data_train, train_samples)"
      ]
    },
    {
      "cell_type": "markdown",
      "metadata": {
        "id": "say3gaQwrjVx"
      },
      "source": [
        "We see that the data is unbalanced to a great extent. Rock and Pop are the most present genres whereas Country and Electronic music are the least present. To keep data at a large enough level, we will drop the Country and Electronic genres and downsize other genres to about $2500$ random samples to keep the dataset balanced. We will also drop the Pop and R&B genres as they clash to a great extent with other genres and contain a lot of noise (after manual inspection a lot of the Pop samples were misclassified as Rock and Hip-Hop)."
      ]
    },
    {
      "cell_type": "code",
      "execution_count": null,
      "metadata": {
        "id": "64di00n5rjVx"
      },
      "outputs": [],
      "source": [
        "# deleting the two least present genres\n",
        "del data_train['Electronic']\n",
        "del data_train['Country']\n",
        "del data_train['Pop']\n",
        "del data_train['R&B']\n",
        "\n",
        "del data_test['Electronic']\n",
        "del data_test['Country']\n",
        "del data_test['Pop']\n",
        "del data_test['R&B']"
      ]
    },
    {
      "cell_type": "code",
      "execution_count": null,
      "metadata": {
        "id": "nNPcbjKjrjVx"
      },
      "outputs": [],
      "source": [
        "# new number of samples after deleting the unwanted classes\n",
        "train_samples = 0\n",
        "test_samples = 0\n",
        "for key in data_train.keys(): train_samples+=len(data_train[key])\n",
        "for key in data_test.keys(): test_samples+=len(data_test[key])"
      ]
    },
    {
      "cell_type": "code",
      "execution_count": null,
      "metadata": {
        "id": "a-nD8pLKrjVy",
        "outputId": "207bd83a-efdb-4cf3-a0b8-f72512821959"
      },
      "outputs": [
        {
          "name": "stdout",
          "output_type": "stream",
          "text": [
            "Music genre: Rock. Number of samples: 2500. Percentage of dataset: 20.428174538323255.\n",
            "\n",
            "Music genre: Metal. Number of samples: 2500. Percentage of dataset: 20.428174538323255.\n",
            "\n",
            "Music genre: Indie. Number of samples: 2500. Percentage of dataset: 20.428174538323255.\n",
            "\n",
            "Music genre: Jazz. Number of samples: 2500. Percentage of dataset: 20.428174538323255.\n",
            "\n",
            "Music genre: Hip-Hop. Number of samples: 2238. Percentage of dataset: 18.287301846706978.\n",
            "\n"
          ]
        }
      ],
      "source": [
        "genres = ['Rock', 'Metal', 'Indie', 'Jazz', 'Hip-Hop'] # the genres that we will keep\n",
        "n = len(genres)\n",
        "train_samples = 0\n",
        "for g in genres:\n",
        "    if g == 'Hip-Hop':\n",
        "        train_samples += len(data_train[g])\n",
        "        continue\n",
        "    data_train[g] = data_train[g].sample(n=2500, random_state=0)\n",
        "    train_samples += len(data_train[g])\n",
        "print_data(data_train, train_samples)"
      ]
    },
    {
      "cell_type": "markdown",
      "metadata": {
        "id": "mmcO1CbyrjVy"
      },
      "source": [
        "We now have a decently balanced dataset, so we can proceed with some text preprocessing. Let us look at the lyrics of the first rock song to get the idea of the text we are working with:"
      ]
    },
    {
      "cell_type": "code",
      "execution_count": null,
      "metadata": {
        "id": "1AQZnhHXrjVy",
        "outputId": "69480661-554d-46eb-87ba-b946ea0ede3c"
      },
      "outputs": [
        {
          "name": "stdout",
          "output_type": "stream",
          "text": [
            "She was my lover\n",
            "She was working undercover\n",
            "Oh the woman knew all of the moves\n",
            "She really had me rompin'\n",
            "We were barefoot stompin'\n",
            "She just kept igniting my fuse\n",
            "\n",
            "I was blinded by the blackness\n",
            "Of her long silk stockings\n",
            "She was rocking with an optical illusion\n",
            "This ain't how I'd thought it'd be\n",
            "She just kept on keeping me\n",
            "In a total state of confusion\n",
            "\n",
            "She took me for a ride\n",
            "Rattled me down to my shoes\n",
            "And I found out\n",
            "She was an undercover agent for the blues\n",
            "\n",
            "She never really needed love\n",
            "Omnidirectional\n",
            "I was just an innocent bystander\n",
            "She kept on getting kinkier\n",
            "I sank hook, line, and sinker\n",
            "Just, just, just too hot to handle\n",
            "\n",
            "She took me by storm\n",
            "It must of been a season for the fools\n",
            "She's so bad\n",
            "An undercover agent for the blues\n",
            "\n"
          ]
        }
      ],
      "source": [
        "print(data_train['Rock']['Lyrics'].iloc[0])"
      ]
    },
    {
      "cell_type": "markdown",
      "metadata": {
        "id": "1pFxPde7rjVz"
      },
      "source": [
        "We will now normalize the text. We are going to do the following:\n",
        "<br>\n",
        "- Tokenize the text\n",
        "- Expand token contractions ('cause $\\rightarrow$ because)\n",
        "- Convert all characters to lowercase\n",
        "- Remove punctuation signs\n",
        "</br>\n",
        "\n",
        "We won't do word lemmatization or stop-word removal as our model of choice is the Transformer which benefits from both, fully expanded tokens and also stop-words as they give context to text. One more aspect to address would be to do sentence-level (divide the text into verses and the verses then into tokens) or token-level (divide the whole text just into tokens) classification with transformers. After going through some papers, and taking into account the size of the final model (using sentence-level classification will require more padding, hence a larger model) we will use token-level classification.\n",
        "\n",
        "So, the following function normalizes the lyrics (we can see an example of how the normalized lyrics of the before mentioned rock song would look like):"
      ]
    },
    {
      "cell_type": "code",
      "execution_count": null,
      "metadata": {
        "id": "bw0F72jyrjV0",
        "outputId": "5e987372-9337-4306-bea3-5369e25b7fc5"
      },
      "outputs": [
        {
          "name": "stdout",
          "output_type": "stream",
          "text": [
            "['she', 'was', 'my', 'lover', 'she', 'was', 'working', 'undercover', 'oh', 'the', 'woman', 'knew', 'all', 'of', 'the', 'moves', 'she', 'really', 'had', 'me', 'romping', 'we', 'were', 'barefoot', 'stomping', 'she', 'just', 'kept', 'igniting', 'my', 'fuse', 'i', 'was', 'blinded', 'by', 'the', 'blackness', 'of', 'her', 'long', 'silk', 'stockings', 'she', 'was', 'rocking', 'with', 'an', 'optical', 'illusion', 'this', 'are', 'not', 'how', 'i', 'would', 'thought', 'it', 'would', 'be', 'she', 'just', 'kept', 'on', 'keeping', 'me', 'in', 'a', 'total', 'state', 'of', 'confusion', 'she', 'took', 'me', 'for', 'a', 'ride', 'rattled', 'me', 'down', 'to', 'my', 'shoes', 'and', 'i', 'found', 'out', 'she', 'was', 'an', 'undercover', 'agent', 'for', 'the', 'blues', 'she', 'never', 'really', 'needed', 'love', 'omnidirectional', 'i', 'was', 'just', 'an', 'innocent', 'bystander', 'she', 'kept', 'on', 'getting', 'kinkier', 'i', 'sank', 'hook', 'line', 'and', 'sinker', 'just', 'just', 'just', 'too', 'hot', 'to', 'handle', 'she', 'took', 'me', 'by', 'storm', 'it', 'must', 'of', 'been', 'a', 'season', 'for', 'the', 'fools', 'she', 'is', 'so', 'bad', 'an', 'undercover', 'agent', 'for', 'the', 'blues']\n"
          ]
        }
      ],
      "source": [
        "def normalize_lyrics(lyrics):\n",
        "  expanded_words = []\n",
        "  for word in lyrics.split():\n",
        "    # using contractions to expand the shortened words\n",
        "    expanded_words.append(contractions.fix(word))\n",
        "\n",
        "  expanded_lyrics = ' '.join(expanded_words)\n",
        "  expanded_lyrics = re.sub(r\"in'\", \"ing\", expanded_lyrics) # taking into account verbs that end in \"in'\", singin' -> singing\n",
        "\n",
        "  tokenizer = nltk.tokenize.RegexpTokenizer(r'\\w+') # remove punctuations and other non-alphanumeric characters\n",
        "  tokens = tokenizer.tokenize(expanded_lyrics) # using the nltk toknizer to split the lyrics into tokens\n",
        "\n",
        "  tokens = [token.lower() for token in tokens] # lowering tokens\n",
        "  return tokens\n",
        "\n",
        "lyrics = data_train['Rock']['Lyrics'].iloc[0]\n",
        "print(normalize_lyrics(lyrics))"
      ]
    },
    {
      "cell_type": "markdown",
      "metadata": {
        "id": "eewAurPNrjV0"
      },
      "source": [
        "Let us now do this for all samples and all categories. We will also make a new data column \"Tokens\" which will contain the tokenized lyrics. This way we can save the dataframes as csv files and when loading them in future we get immediately the tokenized lyrics."
      ]
    },
    {
      "cell_type": "code",
      "execution_count": null,
      "metadata": {
        "id": "o7RI2q0brjV1"
      },
      "outputs": [],
      "source": [
        "def tokenize_dict(data):\n",
        "    for key in data.keys():\n",
        "        genre_tokens = []\n",
        "        index_to_drop = []\n",
        "        for i in range(len(data[key])):\n",
        "            tokenized_lyrics = normalize_lyrics(data[key]['Lyrics'].iloc[i])\n",
        "            # if there are less than 10 tokens inside a lyrics consider it as noise and don't include it\n",
        "            if len(tokenized_lyrics) < 10:\n",
        "                index_to_drop.append(data[key].index[i])\n",
        "                continue\n",
        "            genre_tokens.append(tokenized_lyrics)\n",
        "        for ind in index_to_drop:\n",
        "            data[key] = data[key].drop(axis=1, index=ind) # drop based on the index of row\n",
        "        data[key]['Tokens'] = genre_tokens\n",
        "    return data"
      ]
    },
    {
      "cell_type": "code",
      "execution_count": null,
      "metadata": {
        "id": "KB74hlMzrjV1",
        "outputId": "ff254ddd-9660-4f9a-8d59-70a9e3e8d5c7"
      },
      "outputs": [
        {
          "name": "stderr",
          "output_type": "stream",
          "text": [
            "C:\\Users\\pc\\AppData\\Local\\Temp\\ipykernel_12880\\471414185.py:14: SettingWithCopyWarning: \n",
            "A value is trying to be set on a copy of a slice from a DataFrame.\n",
            "Try using .loc[row_indexer,col_indexer] = value instead\n",
            "\n",
            "See the caveats in the documentation: https://pandas.pydata.org/pandas-docs/stable/user_guide/indexing.html#returning-a-view-versus-a-copy\n",
            "  data[key]['Tokens'] = genre_tokens\n",
            "C:\\Users\\pc\\AppData\\Local\\Temp\\ipykernel_12880\\471414185.py:14: SettingWithCopyWarning: \n",
            "A value is trying to be set on a copy of a slice from a DataFrame.\n",
            "Try using .loc[row_indexer,col_indexer] = value instead\n",
            "\n",
            "See the caveats in the documentation: https://pandas.pydata.org/pandas-docs/stable/user_guide/indexing.html#returning-a-view-versus-a-copy\n",
            "  data[key]['Tokens'] = genre_tokens\n",
            "C:\\Users\\pc\\AppData\\Local\\Temp\\ipykernel_12880\\471414185.py:14: SettingWithCopyWarning: \n",
            "A value is trying to be set on a copy of a slice from a DataFrame.\n",
            "Try using .loc[row_indexer,col_indexer] = value instead\n",
            "\n",
            "See the caveats in the documentation: https://pandas.pydata.org/pandas-docs/stable/user_guide/indexing.html#returning-a-view-versus-a-copy\n",
            "  data[key]['Tokens'] = genre_tokens\n",
            "C:\\Users\\pc\\AppData\\Local\\Temp\\ipykernel_12880\\471414185.py:14: SettingWithCopyWarning: \n",
            "A value is trying to be set on a copy of a slice from a DataFrame.\n",
            "Try using .loc[row_indexer,col_indexer] = value instead\n",
            "\n",
            "See the caveats in the documentation: https://pandas.pydata.org/pandas-docs/stable/user_guide/indexing.html#returning-a-view-versus-a-copy\n",
            "  data[key]['Tokens'] = genre_tokens\n",
            "C:\\Users\\pc\\AppData\\Local\\Temp\\ipykernel_12880\\471414185.py:14: SettingWithCopyWarning: \n",
            "A value is trying to be set on a copy of a slice from a DataFrame.\n",
            "Try using .loc[row_indexer,col_indexer] = value instead\n",
            "\n",
            "See the caveats in the documentation: https://pandas.pydata.org/pandas-docs/stable/user_guide/indexing.html#returning-a-view-versus-a-copy\n",
            "  data[key]['Tokens'] = genre_tokens\n",
            "C:\\Users\\pc\\AppData\\Local\\Temp\\ipykernel_12880\\471414185.py:14: SettingWithCopyWarning: \n",
            "A value is trying to be set on a copy of a slice from a DataFrame.\n",
            "Try using .loc[row_indexer,col_indexer] = value instead\n",
            "\n",
            "See the caveats in the documentation: https://pandas.pydata.org/pandas-docs/stable/user_guide/indexing.html#returning-a-view-versus-a-copy\n",
            "  data[key]['Tokens'] = genre_tokens\n"
          ]
        }
      ],
      "source": [
        "data_train = tokenize_dict(data_train)\n",
        "data_test = tokenize_dict(data_test)"
      ]
    },
    {
      "cell_type": "markdown",
      "metadata": {
        "id": "i9MHguwgrjV2"
      },
      "source": [
        "For the purpose of reusing the dataset we will save train and test data so to be able to load it without going through the preprocessing steps in the future."
      ]
    },
    {
      "cell_type": "code",
      "execution_count": null,
      "metadata": {
        "id": "Ht0cguadrjV2"
      },
      "outputs": [],
      "source": [
        "def combine_dfs(data):\n",
        "    dfs = []\n",
        "    for key in data.keys(): dfs.append(data[key])\n",
        "    return pd.concat(dfs)\n",
        "combine_dfs(data_test).to_csv('data/pruned_test.csv', index=False)\n",
        "combine_dfs(data_train).to_csv('data/pruned_train.csv', index=False)"
      ]
    },
    {
      "cell_type": "markdown",
      "metadata": {
        "id": "Z9oVb-INrjV2"
      },
      "source": [
        "<h4> Model architecture </h4>"
      ]
    },
    {
      "cell_type": "markdown",
      "metadata": {
        "id": "DowRO2zprjV3"
      },
      "source": [
        "Before addressing the architecture of the model, let us load the pruned data. As all the inputs to an NN when training have to have the same input length we will need to take a threshold for the number of tokens used per sample. We will go with 200 tokens, and for songs that have fewer tokens than that number, they are going to be padded.\n",
        "\n",
        "We need to also address the labels. As we have chosen to work with five genres in the end, we will have five classes but for now they are just strings representing the name of the specific genre. For training the purposes we need to use one-hot encoding to represent the different classes.\n",
        "\n",
        "All of this is done by the following function which gives us ready-to-use training and testing data."
      ]
    },
    {
      "cell_type": "code",
      "execution_count": 3,
      "metadata": {
        "id": "uPDKzOBvrjV3"
      },
      "outputs": [],
      "source": [
        "genres = ['Rock', 'Metal', 'Indie', 'Jazz', 'Hip-Hop']\n",
        "n = len(genres)\n",
        "def load_data(max_len=200):\n",
        "    train = pd.read_csv('pruned_train.csv')\n",
        "    test = pd.read_csv('pruned_test.csv', )\n",
        "    for i in range(len(train)):\n",
        "        enc = np.zeros(n)\n",
        "        train.at[i, 'Tokens'] = literal_eval(train.at[i, 'Tokens'])[0:max_len]\n",
        "        enc[genres.index(train.at[i, 'Genre'])] = 1.0\n",
        "        train.at[i, 'Genre'] = enc\n",
        "    for i in range(len(test)):\n",
        "        enc = np.zeros(n)\n",
        "        test.at[i, 'Tokens'] = literal_eval(test.at[i, 'Tokens'])[0:max_len]\n",
        "        enc[genres.index(test.at[i, 'Genre'])] = 1.0\n",
        "        test.at[i, 'Genre'] = enc\n",
        "    return train, test\n",
        "max_len = 200\n",
        "train, test = load_data()"
      ]
    },
    {
      "cell_type": "code",
      "execution_count": 4,
      "metadata": {
        "colab": {
          "base_uri": "https://localhost:8080/"
        },
        "id": "zyTDQQS1rjV4",
        "outputId": "84a45383-f396-4bbf-a8b5-a69afd46ca82"
      },
      "outputs": [
        {
          "output_type": "execute_result",
          "data": {
            "text/plain": [
              "((12225, 5), (4350, 5))"
            ]
          },
          "metadata": {},
          "execution_count": 4
        }
      ],
      "source": [
        "train_labels = np.array(train['Genre'].to_list())\n",
        "test_labels = np.array(test['Genre'].to_list())\n",
        "train_labels.shape, test_labels.shape"
      ]
    },
    {
      "cell_type": "markdown",
      "metadata": {
        "id": "EUrEIgTPlhYi"
      },
      "source": [
        "The transformer model that we are going to use is the BERT model introduced in 2018 by researches as Google. The specific version we are going to use is the <i>\"bert-base-uncased\"</i> which is a 110 million parameter model that was trained on lowercased text. It uses a vocabulary of $30000$ tokens and some special tokens like [CLS] (classification token) and [SEP] (sentence separation token).\n",
        "\n",
        "The BERT model has two inputs:\n",
        "- Inputs IDs\n",
        "\n",
        "Input IDs are just integer number representation of tokens in a sequence. Those IDs can correspond to anything, but usually they are associated with the ordinal number of the tokens in the vocabulary. The problem is that those numbers don't carry any meaning to the neural network. That is one of the most important problems in NLP, how to represent tokens as numbers such that those representations carry meaning. The solution is to use dense vector representations of tokens, or more commonly known as word-embeddings. These word-embeddings are vectors of fixed size that carry meaning of words due to their high dimensionality. For example, some region in an $N$-dimensional space can be inhabited with vectors that correspond to different word-embeddings for fruits, and then a subregion can be populated with vectors for different kinds of apples and so on. And they do really work like vectors, where we can have the notion of word similarity by the mathematical operation of cosine similarity, or even adding and subtracting vectors getting new ones (e.g. vec(Italy) + vec(Rome) - vec(Japan) $\\approx$ vec(Tokyo)). These embeddings are usually learnt during the training phase of a large transformer model, but the BERT model has already an embedding layer, and we are going to use those embeddings by freezing the model weights.\n",
        "\n",
        "- Attention mask\n",
        "  \n",
        "Attention is the crucial notion when using transformers (the original transformer paper was even called \"Attention is all you need\"). Attention is a mechanism in the transformer that allows the model to focus only on the relevant relations between tokens and capture those relations. If we look at the sentence \"I drove the car until it broke down.\", with attention a relation between \"car\" and \"it\" is established as it refers to the same object. There is actually some non-zero attention score between all tokens but depending on the relevance the attention is higher or lower (or zero if there is no correspondence at all). At first, all attention scores are set to $1$ but during training they are changed such that they capture the relevance between tokens. And this relevance can persist for the whole input, so there is no problem with long-term dependency issues like with the RNN model.\n",
        "\n",
        "\n",
        "So, we are going to use the BERT model and the hidden outputs which are basically intermediate representations produced by transformer layers. They capture contextual information of the input and they encode the meaning of the input tokens. The hidden size of the \"bert-base-uncased\" model is $768$. Then on top of the base, we use an NN with Average Pooling (averaging hidden outputs along the sequence length dimension) and two dense layers (where the last one has a softmax activation function as we are using one-hot encoded labels) to classify the input into five classes."
      ]
    },
    {
      "cell_type": "code",
      "execution_count": 5,
      "metadata": {
        "id": "CzlhQchwrjV4",
        "colab": {
          "base_uri": "https://localhost:8080/",
          "height": 188,
          "referenced_widgets": [
            "46d01798d42146b4961283c362c80b5a",
            "067e3054369f47889437821957a9890d",
            "136b8aad442945cd87f8022c89c15f54",
            "fb7bf0a58e2041b4b257900092df6942",
            "66b0e91882924e2cb5b8d5ab2d4ea940",
            "73a0b706ab9f4ea49ba46ac760d809a4",
            "f043024ae9ee493baf64370a785c43d3",
            "e4c03bcc3310469196036de580e79617",
            "63b54a2b2cdc4626a09ccd3827ed179e",
            "dc00ddee205c4daf8667e22c2232d109",
            "0c884aa67ca84804a5e73255f2b5a7bf",
            "f842f24723804c408168245ebf10eb31",
            "f8a8fd9ad25649fb9b90160465bbc224",
            "e9bf60ceb1974a49b68ad658ed4f37e0",
            "417b55e6a56146bb98b4bc51739697c6",
            "c31805d3edad4621b6b92a1b9c0aeb38",
            "376561945d1c49d6948bbbd25fe01e88",
            "32a26baa6946495f90420f8166c15d16",
            "f45d3510f80e4114b2b1c82eac85f8b7",
            "a8210e89e44b42ceba5b12d53f034d86",
            "85bae3e6753b4f86b68ab38dc4e7ea7b",
            "f557a099da2b42528dcf3504c8922f8c"
          ]
        },
        "outputId": "64900578-9ab4-4a4f-f569-bddab0d9a0d6"
      },
      "outputs": [
        {
          "output_type": "display_data",
          "data": {
            "text/plain": [
              "Downloading (…)lve/main/config.json:   0%|          | 0.00/570 [00:00<?, ?B/s]"
            ],
            "application/vnd.jupyter.widget-view+json": {
              "version_major": 2,
              "version_minor": 0,
              "model_id": "46d01798d42146b4961283c362c80b5a"
            }
          },
          "metadata": {}
        },
        {
          "output_type": "display_data",
          "data": {
            "text/plain": [
              "Downloading model.safetensors:   0%|          | 0.00/440M [00:00<?, ?B/s]"
            ],
            "application/vnd.jupyter.widget-view+json": {
              "version_major": 2,
              "version_minor": 0,
              "model_id": "f842f24723804c408168245ebf10eb31"
            }
          },
          "metadata": {}
        },
        {
          "output_type": "stream",
          "name": "stderr",
          "text": [
            "Some weights of the PyTorch model were not used when initializing the TF 2.0 model TFBertModel: ['cls.predictions.bias', 'cls.seq_relationship.weight', 'cls.predictions.transform.LayerNorm.weight', 'cls.predictions.transform.dense.bias', 'cls.predictions.transform.dense.weight', 'cls.seq_relationship.bias', 'cls.predictions.transform.LayerNorm.bias']\n",
            "- This IS expected if you are initializing TFBertModel from a PyTorch model trained on another task or with another architecture (e.g. initializing a TFBertForSequenceClassification model from a BertForPreTraining model).\n",
            "- This IS NOT expected if you are initializing TFBertModel from a PyTorch model that you expect to be exactly identical (e.g. initializing a TFBertForSequenceClassification model from a BertForSequenceClassification model).\n",
            "All the weights of TFBertModel were initialized from the PyTorch model.\n",
            "If your task is similar to the task the model of the checkpoint was trained on, you can already use TFBertModel for predictions without further training.\n"
          ]
        }
      ],
      "source": [
        "transformer_model = TFBertModel.from_pretrained(\"bert-base-uncased\")\n",
        "\n",
        "def create_model(num_classes, max_sequence_length):\n",
        "    # Input ids and attention mask\n",
        "    input_ids = Input(shape=(max_sequence_length,), name='input_ids', dtype=tf.int32)\n",
        "    attention_mask = Input(shape=(max_sequence_length,), name='attention_mask', dtype=tf.int32)\n",
        "\n",
        "    # Freeze the transformer layers\n",
        "    transformer_model.trainable = False\n",
        "\n",
        "    # Get the transformer hidden state output\n",
        "    embeds = transformer_model(input_ids=input_ids, attention_mask=attention_mask)[0]\n",
        "\n",
        "    # Global average pooling\n",
        "    pooled_output = GlobalAveragePooling1D()(embeds)\n",
        "\n",
        "    # Classification head\n",
        "    out = Dense(256, activation = 'relu')(pooled_output)\n",
        "    out = Dropout(0.2)(out)\n",
        "    y = Dense(num_classes,activation = 'softmax')(out)\n",
        "\n",
        "    # Combine inputs and outputs into a Keras model\n",
        "    model = Model(inputs=[input_ids, attention_mask], outputs=y)\n",
        "    return model"
      ]
    },
    {
      "cell_type": "code",
      "execution_count": 6,
      "metadata": {
        "colab": {
          "base_uri": "https://localhost:8080/"
        },
        "id": "htzK6OJprjV4",
        "outputId": "7c38c93b-1e11-4201-a006-cfac1c7ad58e"
      },
      "outputs": [
        {
          "output_type": "stream",
          "name": "stdout",
          "text": [
            "Model: \"model\"\n",
            "__________________________________________________________________________________________________\n",
            " Layer (type)                   Output Shape         Param #     Connected to                     \n",
            "==================================================================================================\n",
            " input_ids (InputLayer)         [(None, 200)]        0           []                               \n",
            "                                                                                                  \n",
            " attention_mask (InputLayer)    [(None, 200)]        0           []                               \n",
            "                                                                                                  \n",
            " tf_bert_model (TFBertModel)    TFBaseModelOutputWi  109482240   ['input_ids[0][0]',              \n",
            "                                thPoolingAndCrossAt               'attention_mask[0][0]']         \n",
            "                                tentions(last_hidde                                               \n",
            "                                n_state=(None, 200,                                               \n",
            "                                 768),                                                            \n",
            "                                 pooler_output=(Non                                               \n",
            "                                e, 768),                                                          \n",
            "                                 past_key_values=No                                               \n",
            "                                ne, hidden_states=N                                               \n",
            "                                one, attentions=Non                                               \n",
            "                                e, cross_attentions                                               \n",
            "                                =None)                                                            \n",
            "                                                                                                  \n",
            " global_average_pooling1d (Glob  (None, 768)         0           ['tf_bert_model[0][0]']          \n",
            " alAveragePooling1D)                                                                              \n",
            "                                                                                                  \n",
            " dense (Dense)                  (None, 256)          196864      ['global_average_pooling1d[0][0]'\n",
            "                                                                 ]                                \n",
            "                                                                                                  \n",
            " dropout_37 (Dropout)           (None, 256)          0           ['dense[0][0]']                  \n",
            "                                                                                                  \n",
            " dense_1 (Dense)                (None, 5)            1285        ['dropout_37[0][0]']             \n",
            "                                                                                                  \n",
            "==================================================================================================\n",
            "Total params: 109,680,389\n",
            "Trainable params: 198,149\n",
            "Non-trainable params: 109,482,240\n",
            "__________________________________________________________________________________________________\n"
          ]
        }
      ],
      "source": [
        "model = create_model(len(genres), max_len)\n",
        "model.summary()"
      ]
    },
    {
      "cell_type": "markdown",
      "metadata": {
        "id": "lL9040vNlhYj"
      },
      "source": [
        "We already said the the BERT model expects two inputs: the inputs IDs and the attention masks. We are going to represent all samples with these two inputs using the \"bert-base-uncased\" tokenizer. This tokenizer takes an input sequence, tokenizes it and produces input IDs (using a dictionary already embedded inside the tokenizer) and the attention masks.\n",
        "\n",
        "We already have tokenized the text, but to our own needs so we are going to rejoin the token list into a single string so that the BERT tokenizer just splits the tokens along the whitespaces so we again have our preprocessed tokens."
      ]
    },
    {
      "cell_type": "code",
      "execution_count": 7,
      "metadata": {
        "id": "O9WpUDifrjV5",
        "colab": {
          "base_uri": "https://localhost:8080/",
          "height": 113,
          "referenced_widgets": [
            "6fa720d35c804a128a70ae246846cb50",
            "e69a6d2050e24e61b94ef493826c170c",
            "3eee447039ff4ba294142e70aba4286b",
            "58d463c2297c485eb6fe975c4c415e86",
            "9e872b2c3e7744da8ed971b003ae1466",
            "14dff004b79843f5b406ccb2ed81c704",
            "ce2bdec20ea143e29ec3c21cffe7b03d",
            "44053768fae34b5688f70d6a9bc53352",
            "428cfc8544d94440a8f28caf8c31fbbb",
            "ffad99155085407fa95e9df2418d516f",
            "7fdcae3f1078484c84efad7457e6552d",
            "f6c3d4f0743c40aa89586c9de0d59fb3",
            "1592f2a55c7a484dbe56f1572e1a3ae7",
            "775fbfb0108f4a27bcd6ec5bec6e580d",
            "977707db35924437b4b7823715a78603",
            "d4838c7c24c042f28d0987d127256c9b",
            "d7edfc00d9764122b54be60d4867b2c1",
            "1ba3b647471747328d7ea464be450902",
            "bf4f3ff46ac8497c96263c26e7c95249",
            "2706751b43a646da98d0a082d6e11ba0",
            "f60121d6398d49ac881623298dd606a1",
            "8d6dc561d40a440ea564aff796ac9434",
            "e6d16202c08f447ca2d4cb9654daec0b",
            "c72f383d091c4546a24749125ae0a81c",
            "ca98733f22794299a1b594670e44ed9e",
            "873f2b57ca964d2e9373933c295080a0",
            "5f76c2041c514d6c9b4b6e28d30df94e",
            "9ab3c823191044bbb29aec919409d98a",
            "a496c935804b47ee9545f162ebd41d5c",
            "99921560476d43278d5ecf5c337a0909",
            "22828ccd66694761a74c4430c1aadfde",
            "7903f12768ac4f32bb823438e68d9052",
            "1b704ae03c714fd1b5b93cab1ca1cba6"
          ]
        },
        "outputId": "fcb3927c-8894-48cd-d701-964f5d14d188"
      },
      "outputs": [
        {
          "output_type": "display_data",
          "data": {
            "text/plain": [
              "Downloading (…)okenizer_config.json:   0%|          | 0.00/28.0 [00:00<?, ?B/s]"
            ],
            "application/vnd.jupyter.widget-view+json": {
              "version_major": 2,
              "version_minor": 0,
              "model_id": "6fa720d35c804a128a70ae246846cb50"
            }
          },
          "metadata": {}
        },
        {
          "output_type": "display_data",
          "data": {
            "text/plain": [
              "Downloading (…)solve/main/vocab.txt:   0%|          | 0.00/232k [00:00<?, ?B/s]"
            ],
            "application/vnd.jupyter.widget-view+json": {
              "version_major": 2,
              "version_minor": 0,
              "model_id": "f6c3d4f0743c40aa89586c9de0d59fb3"
            }
          },
          "metadata": {}
        },
        {
          "output_type": "display_data",
          "data": {
            "text/plain": [
              "Downloading (…)/main/tokenizer.json:   0%|          | 0.00/466k [00:00<?, ?B/s]"
            ],
            "application/vnd.jupyter.widget-view+json": {
              "version_major": 2,
              "version_minor": 0,
              "model_id": "e6d16202c08f447ca2d4cb9654daec0b"
            }
          },
          "metadata": {}
        }
      ],
      "source": [
        "tokenizer = AutoTokenizer.from_pretrained(\"bert-base-uncased\")\n",
        "def format_data(df, max_len):\n",
        "    input_ids = np.zeros((len(df), max_len))\n",
        "    attn_masks = np.zeros((len(df), max_len))\n",
        "    for i, text in enumerate(df['Tokens']):\n",
        "        tokenized_text = tokenizer(\n",
        "            ' '.join(text),\n",
        "            max_length=max_len,\n",
        "            truncation=True,\n",
        "            padding='max_length',\n",
        "            add_special_tokens=True,\n",
        "            return_token_type_ids = False,\n",
        "            return_tensors='tf'\n",
        "        )\n",
        "        input_ids[i, :] = tokenized_text.input_ids\n",
        "        attn_masks[i, :] = tokenized_text.attention_mask\n",
        "    return input_ids, attn_masks"
      ]
    },
    {
      "cell_type": "markdown",
      "metadata": {
        "id": "oUlFUK9YlhYj"
      },
      "source": [
        "We are going to produce inputs IDs and attention masks for both the training and test data."
      ]
    },
    {
      "cell_type": "code",
      "execution_count": 8,
      "metadata": {
        "id": "sXca1xvdrjV5"
      },
      "outputs": [],
      "source": [
        "train_input_ids, train_attn_masks = format_data(train, max_len)\n",
        "test_input_ids, test_attn_masks = format_data(test, max_len)"
      ]
    },
    {
      "cell_type": "markdown",
      "metadata": {
        "id": "tyGpRQ9ulhYk"
      },
      "source": [
        "We will now join the input IDs, attention masks and the labels into a single dataset object and then shuffle the samples and batch it into $32$ size mini-batches."
      ]
    },
    {
      "cell_type": "code",
      "execution_count": 33,
      "metadata": {
        "id": "6YAK3RRfrjV5"
      },
      "outputs": [],
      "source": [
        "dataset_train = tf.data.Dataset.from_tensor_slices((train_input_ids, train_attn_masks, train_labels))\n",
        "\n",
        "def dataset_map_function(input_ids, attn_masks, labels):\n",
        "    return {\n",
        "        'input_ids': input_ids,\n",
        "        'attention_mask': attn_masks\n",
        "    }, labels\n",
        "dataset_train = dataset_train.map(dataset_map_function)\n",
        "dataset_train = dataset_train.shuffle(12010).batch(32, drop_remainder=True)"
      ]
    },
    {
      "cell_type": "markdown",
      "metadata": {
        "id": "SUiZz0u4lhYk"
      },
      "source": [
        "Let us now take a subset of the training data for validation. Because the tf.data.Dataset object is divided into batches, we are going to take around ~$10\\%$ of the dataset for validation but in the form of batches, not the raw samples."
      ]
    },
    {
      "cell_type": "code",
      "execution_count": 57,
      "metadata": {
        "id": "KA900dbIlhYu"
      },
      "outputs": [],
      "source": [
        "n = len(dataset_train)\n",
        "n_val = round(n*0.10)\n",
        "validation_dataset = dataset_train.take(n_val)\n",
        "dataset_train = dataset_train.skip(n_val).take(n-n_val)"
      ]
    },
    {
      "cell_type": "markdown",
      "metadata": {
        "id": "o9oe2S3u5URZ"
      },
      "source": [
        "If we take a look at the first batch of the training data, we can see that we have the input IDs, the attention mask and the one-hot encoded labels."
      ]
    },
    {
      "cell_type": "code",
      "execution_count": 51,
      "metadata": {
        "colab": {
          "base_uri": "https://localhost:8080/"
        },
        "id": "KCiiUL5tjkt-",
        "outputId": "25637630-6e85-4f94-f5f8-ed3e2d0eb7fc"
      },
      "outputs": [
        {
          "output_type": "execute_result",
          "data": {
            "text/plain": [
              "({'input_ids': <tf.Tensor: shape=(32, 200), dtype=float64, numpy=\n",
              "  array([[  101.,  2065.,  2017., ...,     0.,     0.,     0.],\n",
              "         [  101.,  2735.,  2033., ...,     0.,     0.,     0.],\n",
              "         [  101.,  2360.,  2017., ...,  2004., 17767.,   102.],\n",
              "         ...,\n",
              "         [  101.,  7632.,  2017., ...,  2182.,  1996.,   102.],\n",
              "         [  101.,  1045.,  2042., ...,  7165., 17523.,   102.],\n",
              "         [  101.,  1045.,  2572., ...,     0.,     0.,     0.]])>,\n",
              "  'attention_mask': <tf.Tensor: shape=(32, 200), dtype=float64, numpy=\n",
              "  array([[1., 1., 1., ..., 0., 0., 0.],\n",
              "         [1., 1., 1., ..., 0., 0., 0.],\n",
              "         [1., 1., 1., ..., 1., 1., 1.],\n",
              "         ...,\n",
              "         [1., 1., 1., ..., 1., 1., 1.],\n",
              "         [1., 1., 1., ..., 1., 1., 1.],\n",
              "         [1., 1., 1., ..., 0., 0., 0.]])>},\n",
              " <tf.Tensor: shape=(32, 5), dtype=float64, numpy=\n",
              " array([[0., 0., 1., 0., 0.],\n",
              "        [0., 1., 0., 0., 0.],\n",
              "        [1., 0., 0., 0., 0.],\n",
              "        [0., 0., 0., 1., 0.],\n",
              "        [0., 0., 0., 1., 0.],\n",
              "        [0., 1., 0., 0., 0.],\n",
              "        [0., 1., 0., 0., 0.],\n",
              "        [0., 0., 0., 1., 0.],\n",
              "        [0., 1., 0., 0., 0.],\n",
              "        [1., 0., 0., 0., 0.],\n",
              "        [0., 0., 1., 0., 0.],\n",
              "        [0., 0., 1., 0., 0.],\n",
              "        [0., 0., 0., 1., 0.],\n",
              "        [0., 0., 0., 0., 1.],\n",
              "        [0., 0., 0., 0., 1.],\n",
              "        [0., 0., 1., 0., 0.],\n",
              "        [0., 0., 0., 0., 1.],\n",
              "        [0., 0., 1., 0., 0.],\n",
              "        [1., 0., 0., 0., 0.],\n",
              "        [0., 1., 0., 0., 0.],\n",
              "        [0., 0., 0., 1., 0.],\n",
              "        [0., 0., 0., 0., 1.],\n",
              "        [0., 0., 0., 0., 1.],\n",
              "        [1., 0., 0., 0., 0.],\n",
              "        [0., 0., 1., 0., 0.],\n",
              "        [0., 0., 0., 0., 1.],\n",
              "        [0., 0., 0., 1., 0.],\n",
              "        [0., 0., 1., 0., 0.],\n",
              "        [0., 0., 0., 0., 1.],\n",
              "        [0., 0., 1., 0., 0.],\n",
              "        [1., 0., 0., 0., 0.],\n",
              "        [0., 0., 1., 0., 0.]])>)"
            ]
          },
          "metadata": {},
          "execution_count": 51
        }
      ],
      "source": [
        "list(dataset_train)[0]"
      ]
    },
    {
      "cell_type": "markdown",
      "source": [
        "Let us also take a look at an example from the training set of tokenized lyrics and its representation in the form of input IDs. We can get the vocabulary from the BERT tokenizer to see that we can go back from the encodings to tokens."
      ],
      "metadata": {
        "id": "_AZ_FMlBbFe7"
      }
    },
    {
      "cell_type": "code",
      "execution_count": 53,
      "metadata": {
        "colab": {
          "base_uri": "https://localhost:8080/",
          "height": 559
        },
        "id": "Yjj01ujLVqRn",
        "outputId": "115256c3-3d1c-4d92-d2c0-b0ee56351111"
      },
      "outputs": [
        {
          "output_type": "stream",
          "name": "stdout",
          "text": [
            "['every', 'time', 'that', 'i', 'look', 'in', 'the', 'mirror', 'all', 'these', 'lines', 'on', 'my', 'face', 'getting', 'clearer', 'the', 'past', 'is', 'gone', 'it', 'went', 'by', 'like', 'dusk', 'to', 'dawn', 'is', 'not', 'that', 'the', 'way', 'everybody', 's', 'got', 'their', 'dues', 'in', 'life', 'to', 'pay', 'yeah', 'i', 'know', 'nobody', 'knows', 'where', 'it', 'comes', 'and', 'where', 'it', 'goes', 'i', 'know', 'it', 'is', 'everybody', 's', 'sin', 'you', 'got', 'to', 'lose', 'to', 'know', 'how', 'to', 'win', 'half', 'my', 'life', 's', 'in', 'books', 'written', 'pages', 'live', 'and', 'learn', 'from', 'fools', 'and', 'from', 'sages', 'you', 'know', 'it', 'is', 'true', 'all', 'the', 'things', 'you', 'do', 'come', 'back', 'to', 'you', 'sing', 'with', 'me', 'sing', 'for', 'the', 'years', 'sing', 'for', 'the', 'laughter', 'and', 'sing', 'for', 'the', 'tears', 'sing', 'with', 'me', 'if', 'it', 'is', 'just', 'for', 'today', 'maybe', 'tomorrow', 'the', 'good', 'lord', 'will', 'take', 'you', 'away', 'well', 'sing', 'with', 'me', 'sing', 'for', 'the', 'years', 'sing', 'for', 'the', 'laughter', 'and', 'sing', 'for', 'the', 'tears', 'sing', 'with', 'me', 'if', 'it', 'is', 'just', 'for', 'today', 'maybe', 'tomorrow', 'the', 'good', 'lord', 'will', 'take', 'you', 'away', 'dream', 'on', 'dream', 'on', 'dream', 'on', 'dream', 'until', 'your', 'dreams', 'come', 'true', 'dream', 'on', 'dream', 'on', 'dream', 'on', 'and', 'dream', 'until', 'your', 'dreams', 'come', 'true', 'dream', 'on', 'dream', 'on', 'dream', 'on', 'dream']\n",
            "[  101.  2296.  2051.  2008.  1045.  2298.  1999.  1996.  5259.  2035.\n",
            "  2122.  3210.  2006.  2026.  2227.  2893. 24509.  1996.  2627.  2003.\n",
            "  2908.  2009.  2253.  2011.  2066. 18406.  2000.  6440.  2003.  2025.\n",
            "  2008.  1996.  2126.  7955.  1055.  2288.  2037.  2349.  2015.  1999.\n",
            "  2166.  2000.  3477.  3398.  1045.  2113.  6343.  4282.  2073.  2009.\n",
            "  3310.  1998.  2073.  2009.  3632.  1045.  2113.  2009.  2003.  7955.\n",
            "  1055.  8254.  2017.  2288.  2000.  4558.  2000.  2113.  2129.  2000.\n",
            "  2663.  2431.  2026.  2166.  1055.  1999.  2808.  2517.  5530.  2444.\n",
            "  1998.  4553.  2013. 18656.  1998.  2013. 10878.  2015.  2017.  2113.\n",
            "  2009.  2003.  2995.  2035.  1996.  2477.  2017.  2079.  2272.  2067.\n",
            "  2000.  2017.  6170.  2007.  2033.  6170.  2005.  1996.  2086.  6170.\n",
            "  2005.  1996.  7239.  1998.  6170.  2005.  1996.  4000.  6170.  2007.\n",
            "  2033.  2065.  2009.  2003.  2074.  2005.  2651.  2672.  4826.  1996.\n",
            "  2204.  2935.  2097.  2202.  2017.  2185.  2092.  6170.  2007.  2033.\n",
            "  6170.  2005.  1996.  2086.  6170.  2005.  1996.  7239.  1998.  6170.\n",
            "  2005.  1996.  4000.  6170.  2007.  2033.  2065.  2009.  2003.  2074.\n",
            "  2005.  2651.  2672.  4826.  1996.  2204.  2935.  2097.  2202.  2017.\n",
            "  2185.  3959.  2006.  3959.  2006.  3959.  2006.  3959.  2127.  2115.\n",
            "  5544.  2272.  2995.  3959.  2006.  3959.  2006.  3959.  2006.  1998.\n",
            "  3959.  2127.  2115.  5544.  2272.  2995.  3959.  2006.  3959.   102.]\n"
          ]
        },
        {
          "output_type": "execute_result",
          "data": {
            "text/plain": [
              "'[CLS] every time that i look in the mirror all these lines on my face getting clearer the past is gone it went by like dusk to dawn is not that the way everybody s got their dues in life to pay yeah i know nobody knows where it comes and where it goes i know it is everybody s sin you got to lose to know how to win half my life s in books written pages live and learn from fools and from sages you know it is true all the things you do come back to you sing with me sing for the years sing for the laughter and sing for the tears sing with me if it is just for today maybe tomorrow the good lord will take you away well sing with me sing for the years sing for the laughter and sing for the tears sing with me if it is just for today maybe tomorrow the good lord will take you away dream on dream on dream on dream until your dreams come true dream on dream on dream on and dream until your dreams come true dream on dream [SEP]'"
            ],
            "application/vnd.google.colaboratory.intrinsic+json": {
              "type": "string"
            }
          },
          "metadata": {},
          "execution_count": 53
        }
      ],
      "source": [
        "print(train['Tokens'].iloc[484]) # the tokenized lyrics\n",
        "print(train_input_ids[484]) # input ids\n",
        "vocab_encodings = tokenizer.get_vocab() # vocabulary encodings used for input IDs\n",
        "int_list = [int(x) for x in list(train_input_ids[484])]\n",
        "tokenizer.decode(int_list) # decoded input IDs back to tokens\n",
        "# [CLS] is 101, and [SEP] is 102"
      ]
    },
    {
      "cell_type": "markdown",
      "metadata": {
        "id": "ZlEsOubDlhYw"
      },
      "source": [
        "We can now compile the model using the Adam optimizer, accuracy as the chosen metric and Categorical Crossentropy as the loss function as we have used one-hot encodings for the labels and the softmax activation function in the classification dense layer."
      ]
    },
    {
      "cell_type": "code",
      "execution_count": 38,
      "metadata": {
        "id": "1jnkRGH7rjV5"
      },
      "outputs": [],
      "source": [
        "model.compile(optimizer=tf.keras.optimizers.Adam(learning_rate=1e-4),\n",
        "              loss=tf.keras.losses.CategoricalCrossentropy(),\n",
        "              metrics=['accuracy'])"
      ]
    },
    {
      "cell_type": "code",
      "execution_count": 39,
      "metadata": {
        "colab": {
          "base_uri": "https://localhost:8080/"
        },
        "id": "OvPIPGlDrjV6",
        "outputId": "9303920f-1c52-4456-a51b-9c4e401787be"
      },
      "outputs": [
        {
          "output_type": "stream",
          "name": "stdout",
          "text": [
            "Epoch 1/7\n",
            "332/332 [==============================] - 186s 523ms/step - loss: 1.2823 - accuracy: 0.4775 - val_loss: 1.1665 - val_accuracy: 0.5400\n",
            "Epoch 2/7\n",
            "332/332 [==============================] - 192s 578ms/step - loss: 1.1161 - accuracy: 0.5543 - val_loss: 1.0515 - val_accuracy: 0.5875\n",
            "Epoch 3/7\n",
            "332/332 [==============================] - 172s 518ms/step - loss: 1.0766 - accuracy: 0.5731 - val_loss: 1.0371 - val_accuracy: 0.6012\n",
            "Epoch 4/7\n",
            "332/332 [==============================] - 172s 517ms/step - loss: 1.0450 - accuracy: 0.5905 - val_loss: 1.0197 - val_accuracy: 0.5788\n",
            "Epoch 5/7\n",
            "332/332 [==============================] - 172s 517ms/step - loss: 1.0277 - accuracy: 0.5962 - val_loss: 1.0073 - val_accuracy: 0.6081\n",
            "Epoch 6/7\n",
            "332/332 [==============================] - 192s 577ms/step - loss: 1.0201 - accuracy: 0.6009 - val_loss: 0.9808 - val_accuracy: 0.6100\n",
            "Epoch 7/7\n",
            "332/332 [==============================] - 172s 518ms/step - loss: 1.0064 - accuracy: 0.6042 - val_loss: 0.9848 - val_accuracy: 0.6094\n"
          ]
        }
      ],
      "source": [
        "train_history = model.fit(dataset_train, epochs=7, validation_data=validation_dataset)"
      ]
    },
    {
      "cell_type": "markdown",
      "source": [
        "After going trough $7$ epochs of training we reach an accuracy of around $60\\%$ for the $5$ classes. In the graphs below we can see that the validation accuracy is slightly higher then the training accuracy but that is due to the dropout layer used in the model as in the testing phase the model is more robust and can lead to a higher accuracy."
      ],
      "metadata": {
        "id": "nbwPjx1gjKQR"
      }
    },
    {
      "cell_type": "code",
      "source": [
        "def display_history(history):\n",
        "    loss_training = history.history['loss']\n",
        "    met_training = history.history['accuracy']\n",
        "\n",
        "    loss_val = history.history['val_loss']\n",
        "    met_val = history.history['val_accuracy']\n",
        "\n",
        "    # Graph of the loss on the training and validation set\n",
        "    plt.plot(loss_training)\n",
        "    plt.plot(loss_val)\n",
        "    plt.grid()\n",
        "    plt.title('Loss during training')\n",
        "    plt.xlabel('Epoch')\n",
        "    plt.legend(['Training', 'Validation'])\n",
        "    plt.show()\n",
        "\n",
        "    # Graph of the accuracy on the training and validation set\n",
        "    plt.plot(met_training)\n",
        "    plt.plot(met_val)\n",
        "    plt.grid()\n",
        "    plt.title('Accuracy during training')\n",
        "    plt.xlabel('Epoch')\n",
        "    plt.legend(['Training', 'Validation'])\n",
        "    plt.show()\n",
        "\n",
        "display_history(train_history)"
      ],
      "metadata": {
        "colab": {
          "base_uri": "https://localhost:8080/",
          "height": 927
        },
        "id": "D_gseHorb7W6",
        "outputId": "1998fb50-5c1f-4481-87a1-da9066e800f7"
      },
      "execution_count": 58,
      "outputs": [
        {
          "output_type": "display_data",
          "data": {
            "text/plain": [
              "<Figure size 640x480 with 1 Axes>"
            ],
            "image/png": "[encoded data removed]"
          },
          "metadata": {}
        },
        {
          "output_type": "display_data",
          "data": {
            "text/plain": [
              "<Figure size 640x480 with 1 Axes>"
            ],
            "image/png": "[encoded data removed]"
          },
          "metadata": {}
        }
      ]
    },
    {
      "cell_type": "markdown",
      "metadata": {
        "id": "XCDFBIwKlhYw"
      },
      "source": [
        "Save the model for later reloading."
      ]
    },
    {
      "cell_type": "code",
      "execution_count": 40,
      "metadata": {
        "id": "AdtUWSWIssfC"
      },
      "outputs": [],
      "source": [
        "model.save_weights('model.h5')"
      ]
    },
    {
      "cell_type": "markdown",
      "source": [
        "We can now make predictions on the test dataset and get the accuracy for it."
      ],
      "metadata": {
        "id": "LYt3dnCvcl3p"
      }
    },
    {
      "cell_type": "code",
      "execution_count": 41,
      "metadata": {
        "colab": {
          "base_uri": "https://localhost:8080/"
        },
        "id": "v1eTnGiCtSJ5",
        "outputId": "b6e83a0a-c4f3-49eb-97cb-60a6c15ccf1c"
      },
      "outputs": [
        {
          "output_type": "stream",
          "name": "stdout",
          "text": [
            "136/136 [==============================] - 63s 440ms/step\n"
          ]
        }
      ],
      "source": [
        "y_predict = model.predict([test_input_ids, test_attn_masks])"
      ]
    },
    {
      "cell_type": "code",
      "execution_count": 59,
      "metadata": {
        "colab": {
          "base_uri": "https://localhost:8080/"
        },
        "id": "jZVUelkAvuFf",
        "outputId": "ef85fbf6-3a87-4a1e-be57-f41fe3657dd4"
      },
      "outputs": [
        {
          "output_type": "stream",
          "name": "stdout",
          "text": [
            "Obtained accuracy of testing set:  0.6018390804597701\n"
          ]
        }
      ],
      "source": [
        "predicted_labels = np.argmax(y_predict, axis=1)\n",
        "sum = 0\n",
        "for i in range(len(predicted_labels)):\n",
        "  if(test_labels[i][predicted_labels[i]] == 1):\n",
        "    sum+=1\n",
        "accuracy = sum/len(test_labels)\n",
        "print(\"Obtained accuracy of testing set: \", accuracy)"
      ]
    },
    {
      "cell_type": "markdown",
      "source": [
        "We have a slightly lower testing accuracy than to the training one. Even though the accuracy might not look impressive, the problem itself is a difficult one as we already addressed the blurred lines between different genres. As a conclusion we can say that the results are satisfactory and for a proposal for future work, lyrics could be used as an important factor when classifying songs using sound which is the to-go method used nowadays."
      ],
      "metadata": {
        "id": "_lBTs5GPkXhz"
      }
    }
  ],
  "metadata": {
    "accelerator": "GPU",
    "colab": {
      "gpuType": "T4",
      "provenance": []
    },
    "kernelspec": {
      "display_name": "Python 3",
      "name": "python3"
    },
    "language_info": {
      "codemirror_mode": {
        "name": "ipython",
        "version": 3
      },
      "file_extension": ".py",
      "mimetype": "text/x-python",
      "name": "python",
      "nbconvert_exporter": "python",
      "pygments_lexer": "ipython3",
      "version": "3.11.3"
    },
    "widgets": {
      "application/vnd.jupyter.widget-state+json": {
        "46d01798d42146b4961283c362c80b5a": {
          "model_module": "@jupyter-widgets/controls",
          "model_name": "HBoxModel",
          "model_module_version": "1.5.0",
          "state": {
            "_dom_classes": [],
            "_model_module": "@jupyter-widgets/controls",
            "_model_module_version": "1.5.0",
            "_model_name": "HBoxModel",
            "_view_count": null,
            "_view_module": "@jupyter-widgets/controls",
            "_view_module_version": "1.5.0",
            "_view_name": "HBoxView",
            "box_style": "",
            "children": [
              "IPY_MODEL_067e3054369f47889437821957a9890d",
              "IPY_MODEL_136b8aad442945cd87f8022c89c15f54",
              "IPY_MODEL_fb7bf0a58e2041b4b257900092df6942"
            ],
            "layout": "IPY_MODEL_66b0e91882924e2cb5b8d5ab2d4ea940"
          }
        },
        "067e3054369f47889437821957a9890d": {
          "model_module": "@jupyter-widgets/controls",
          "model_name": "HTMLModel",
          "model_module_version": "1.5.0",
          "state": {
            "_dom_classes": [],
            "_model_module": "@jupyter-widgets/controls",
            "_model_module_version": "1.5.0",
            "_model_name": "HTMLModel",
            "_view_count": null,
            "_view_module": "@jupyter-widgets/controls",
            "_view_module_version": "1.5.0",
            "_view_name": "HTMLView",
            "description": "",
            "description_tooltip": null,
            "layout": "IPY_MODEL_73a0b706ab9f4ea49ba46ac760d809a4",
            "placeholder": "​",
            "style": "IPY_MODEL_f043024ae9ee493baf64370a785c43d3",
            "value": "Downloading (…)lve/main/config.json: 100%"
          }
        },
        "136b8aad442945cd87f8022c89c15f54": {
          "model_module": "@jupyter-widgets/controls",
          "model_name": "FloatProgressModel",
          "model_module_version": "1.5.0",
          "state": {
            "_dom_classes": [],
            "_model_module": "@jupyter-widgets/controls",
            "_model_module_version": "1.5.0",
            "_model_name": "FloatProgressModel",
            "_view_count": null,
            "_view_module": "@jupyter-widgets/controls",
            "_view_module_version": "1.5.0",
            "_view_name": "ProgressView",
            "bar_style": "success",
            "description": "",
            "description_tooltip": null,
            "layout": "IPY_MODEL_e4c03bcc3310469196036de580e79617",
            "max": 570,
            "min": 0,
            "orientation": "horizontal",
            "style": "IPY_MODEL_63b54a2b2cdc4626a09ccd3827ed179e",
            "value": 570
          }
        },
        "fb7bf0a58e2041b4b257900092df6942": {
          "model_module": "@jupyter-widgets/controls",
          "model_name": "HTMLModel",
          "model_module_version": "1.5.0",
          "state": {
            "_dom_classes": [],
            "_model_module": "@jupyter-widgets/controls",
            "_model_module_version": "1.5.0",
            "_model_name": "HTMLModel",
            "_view_count": null,
            "_view_module": "@jupyter-widgets/controls",
            "_view_module_version": "1.5.0",
            "_view_name": "HTMLView",
            "description": "",
            "description_tooltip": null,
            "layout": "IPY_MODEL_dc00ddee205c4daf8667e22c2232d109",
            "placeholder": "​",
            "style": "IPY_MODEL_0c884aa67ca84804a5e73255f2b5a7bf",
            "value": " 570/570 [00:00&lt;00:00, 33.6kB/s]"
          }
        },
        "66b0e91882924e2cb5b8d5ab2d4ea940": {
          "model_module": "@jupyter-widgets/base",
          "model_name": "LayoutModel",
          "model_module_version": "1.2.0",
          "state": {
            "_model_module": "@jupyter-widgets/base",
            "_model_module_version": "1.2.0",
            "_model_name": "LayoutModel",
            "_view_count": null,
            "_view_module": "@jupyter-widgets/base",
            "_view_module_version": "1.2.0",
            "_view_name": "LayoutView",
            "align_content": null,
            "align_items": null,
            "align_self": null,
            "border": null,
            "bottom": null,
            "display": null,
            "flex": null,
            "flex_flow": null,
            "grid_area": null,
            "grid_auto_columns": null,
            "grid_auto_flow": null,
            "grid_auto_rows": null,
            "grid_column": null,
            "grid_gap": null,
            "grid_row": null,
            "grid_template_areas": null,
            "grid_template_columns": null,
            "grid_template_rows": null,
            "height": null,
            "justify_content": null,
            "justify_items": null,
            "left": null,
            "margin": null,
            "max_height": null,
            "max_width": null,
            "min_height": null,
            "min_width": null,
            "object_fit": null,
            "object_position": null,
            "order": null,
            "overflow": null,
            "overflow_x": null,
            "overflow_y": null,
            "padding": null,
            "right": null,
            "top": null,
            "visibility": null,
            "width": null
          }
        },
        "73a0b706ab9f4ea49ba46ac760d809a4": {
          "model_module": "@jupyter-widgets/base",
          "model_name": "LayoutModel",
          "model_module_version": "1.2.0",
          "state": {
            "_model_module": "@jupyter-widgets/base",
            "_model_module_version": "1.2.0",
            "_model_name": "LayoutModel",
            "_view_count": null,
            "_view_module": "@jupyter-widgets/base",
            "_view_module_version": "1.2.0",
            "_view_name": "LayoutView",
            "align_content": null,
            "align_items": null,
            "align_self": null,
            "border": null,
            "bottom": null,
            "display": null,
            "flex": null,
            "flex_flow": null,
            "grid_area": null,
            "grid_auto_columns": null,
            "grid_auto_flow": null,
            "grid_auto_rows": null,
            "grid_column": null,
            "grid_gap": null,
            "grid_row": null,
            "grid_template_areas": null,
            "grid_template_columns": null,
            "grid_template_rows": null,
            "height": null,
            "justify_content": null,
            "justify_items": null,
            "left": null,
            "margin": null,
            "max_height": null,
            "max_width": null,
            "min_height": null,
            "min_width": null,
            "object_fit": null,
            "object_position": null,
            "order": null,
            "overflow": null,
            "overflow_x": null,
            "overflow_y": null,
            "padding": null,
            "right": null,
            "top": null,
            "visibility": null,
            "width": null
          }
        },
        "f043024ae9ee493baf64370a785c43d3": {
          "model_module": "@jupyter-widgets/controls",
          "model_name": "DescriptionStyleModel",
          "model_module_version": "1.5.0",
          "state": {
            "_model_module": "@jupyter-widgets/controls",
            "_model_module_version": "1.5.0",
            "_model_name": "DescriptionStyleModel",
            "_view_count": null,
            "_view_module": "@jupyter-widgets/base",
            "_view_module_version": "1.2.0",
            "_view_name": "StyleView",
            "description_width": ""
          }
        },
        "e4c03bcc3310469196036de580e79617": {
          "model_module": "@jupyter-widgets/base",
          "model_name": "LayoutModel",
          "model_module_version": "1.2.0",
          "state": {
            "_model_module": "@jupyter-widgets/base",
            "_model_module_version": "1.2.0",
            "_model_name": "LayoutModel",
            "_view_count": null,
            "_view_module": "@jupyter-widgets/base",
            "_view_module_version": "1.2.0",
            "_view_name": "LayoutView",
            "align_content": null,
            "align_items": null,
            "align_self": null,
            "border": null,
            "bottom": null,
            "display": null,
            "flex": null,
            "flex_flow": null,
            "grid_area": null,
            "grid_auto_columns": null,
            "grid_auto_flow": null,
            "grid_auto_rows": null,
            "grid_column": null,
            "grid_gap": null,
            "grid_row": null,
            "grid_template_areas": null,
            "grid_template_columns": null,
            "grid_template_rows": null,
            "height": null,
            "justify_content": null,
            "justify_items": null,
            "left": null,
            "margin": null,
            "max_height": null,
            "max_width": null,
            "min_height": null,
            "min_width": null,
            "object_fit": null,
            "object_position": null,
            "order": null,
            "overflow": null,
            "overflow_x": null,
            "overflow_y": null,
            "padding": null,
            "right": null,
            "top": null,
            "visibility": null,
            "width": null
          }
        },
        "63b54a2b2cdc4626a09ccd3827ed179e": {
          "model_module": "@jupyter-widgets/controls",
          "model_name": "ProgressStyleModel",
          "model_module_version": "1.5.0",
          "state": {
            "_model_module": "@jupyter-widgets/controls",
            "_model_module_version": "1.5.0",
            "_model_name": "ProgressStyleModel",
            "_view_count": null,
            "_view_module": "@jupyter-widgets/base",
            "_view_module_version": "1.2.0",
            "_view_name": "StyleView",
            "bar_color": null,
            "description_width": ""
          }
        },
        "dc00ddee205c4daf8667e22c2232d109": {
          "model_module": "@jupyter-widgets/base",
          "model_name": "LayoutModel",
          "model_module_version": "1.2.0",
          "state": {
            "_model_module": "@jupyter-widgets/base",
            "_model_module_version": "1.2.0",
            "_model_name": "LayoutModel",
            "_view_count": null,
            "_view_module": "@jupyter-widgets/base",
            "_view_module_version": "1.2.0",
            "_view_name": "LayoutView",
            "align_content": null,
            "align_items": null,
            "align_self": null,
            "border": null,
            "bottom": null,
            "display": null,
            "flex": null,
            "flex_flow": null,
            "grid_area": null,
            "grid_auto_columns": null,
            "grid_auto_flow": null,
            "grid_auto_rows": null,
            "grid_column": null,
            "grid_gap": null,
            "grid_row": null,
            "grid_template_areas": null,
            "grid_template_columns": null,
            "grid_template_rows": null,
            "height": null,
            "justify_content": null,
            "justify_items": null,
            "left": null,
            "margin": null,
            "max_height": null,
            "max_width": null,
            "min_height": null,
            "min_width": null,
            "object_fit": null,
            "object_position": null,
            "order": null,
            "overflow": null,
            "overflow_x": null,
            "overflow_y": null,
            "padding": null,
            "right": null,
            "top": null,
            "visibility": null,
            "width": null
          }
        },
        "0c884aa67ca84804a5e73255f2b5a7bf": {
          "model_module": "@jupyter-widgets/controls",
          "model_name": "DescriptionStyleModel",
          "model_module_version": "1.5.0",
          "state": {
            "_model_module": "@jupyter-widgets/controls",
            "_model_module_version": "1.5.0",
            "_model_name": "DescriptionStyleModel",
            "_view_count": null,
            "_view_module": "@jupyter-widgets/base",
            "_view_module_version": "1.2.0",
            "_view_name": "StyleView",
            "description_width": ""
          }
        },
        "f842f24723804c408168245ebf10eb31": {
          "model_module": "@jupyter-widgets/controls",
          "model_name": "HBoxModel",
          "model_module_version": "1.5.0",
          "state": {
            "_dom_classes": [],
            "_model_module": "@jupyter-widgets/controls",
            "_model_module_version": "1.5.0",
            "_model_name": "HBoxModel",
            "_view_count": null,
            "_view_module": "@jupyter-widgets/controls",
            "_view_module_version": "1.5.0",
            "_view_name": "HBoxView",
            "box_style": "",
            "children": [
              "IPY_MODEL_f8a8fd9ad25649fb9b90160465bbc224",
              "IPY_MODEL_e9bf60ceb1974a49b68ad658ed4f37e0",
              "IPY_MODEL_417b55e6a56146bb98b4bc51739697c6"
            ],
            "layout": "IPY_MODEL_c31805d3edad4621b6b92a1b9c0aeb38"
          }
        },
        "f8a8fd9ad25649fb9b90160465bbc224": {
          "model_module": "@jupyter-widgets/controls",
          "model_name": "HTMLModel",
          "model_module_version": "1.5.0",
          "state": {
            "_dom_classes": [],
            "_model_module": "@jupyter-widgets/controls",
            "_model_module_version": "1.5.0",
            "_model_name": "HTMLModel",
            "_view_count": null,
            "_view_module": "@jupyter-widgets/controls",
            "_view_module_version": "1.5.0",
            "_view_name": "HTMLView",
            "description": "",
            "description_tooltip": null,
            "layout": "IPY_MODEL_376561945d1c49d6948bbbd25fe01e88",
            "placeholder": "​",
            "style": "IPY_MODEL_32a26baa6946495f90420f8166c15d16",
            "value": "Downloading model.safetensors: 100%"
          }
        },
        "e9bf60ceb1974a49b68ad658ed4f37e0": {
          "model_module": "@jupyter-widgets/controls",
          "model_name": "FloatProgressModel",
          "model_module_version": "1.5.0",
          "state": {
            "_dom_classes": [],
            "_model_module": "@jupyter-widgets/controls",
            "_model_module_version": "1.5.0",
            "_model_name": "FloatProgressModel",
            "_view_count": null,
            "_view_module": "@jupyter-widgets/controls",
            "_view_module_version": "1.5.0",
            "_view_name": "ProgressView",
            "bar_style": "success",
            "description": "",
            "description_tooltip": null,
            "layout": "IPY_MODEL_f45d3510f80e4114b2b1c82eac85f8b7",
            "max": 440449768,
            "min": 0,
            "orientation": "horizontal",
            "style": "IPY_MODEL_a8210e89e44b42ceba5b12d53f034d86",
            "value": 440449768
          }
        },
        "417b55e6a56146bb98b4bc51739697c6": {
          "model_module": "@jupyter-widgets/controls",
          "model_name": "HTMLModel",
          "model_module_version": "1.5.0",
          "state": {
            "_dom_classes": [],
            "_model_module": "@jupyter-widgets/controls",
            "_model_module_version": "1.5.0",
            "_model_name": "HTMLModel",
            "_view_count": null,
            "_view_module": "@jupyter-widgets/controls",
            "_view_module_version": "1.5.0",
            "_view_name": "HTMLView",
            "description": "",
            "description_tooltip": null,
            "layout": "IPY_MODEL_85bae3e6753b4f86b68ab38dc4e7ea7b",
            "placeholder": "​",
            "style": "IPY_MODEL_f557a099da2b42528dcf3504c8922f8c",
            "value": " 440M/440M [00:05&lt;00:00, 127MB/s]"
          }
        },
        "c31805d3edad4621b6b92a1b9c0aeb38": {
          "model_module": "@jupyter-widgets/base",
          "model_name": "LayoutModel",
          "model_module_version": "1.2.0",
          "state": {
            "_model_module": "@jupyter-widgets/base",
            "_model_module_version": "1.2.0",
            "_model_name": "LayoutModel",
            "_view_count": null,
            "_view_module": "@jupyter-widgets/base",
            "_view_module_version": "1.2.0",
            "_view_name": "LayoutView",
            "align_content": null,
            "align_items": null,
            "align_self": null,
            "border": null,
            "bottom": null,
            "display": null,
            "flex": null,
            "flex_flow": null,
            "grid_area": null,
            "grid_auto_columns": null,
            "grid_auto_flow": null,
            "grid_auto_rows": null,
            "grid_column": null,
            "grid_gap": null,
            "grid_row": null,
            "grid_template_areas": null,
            "grid_template_columns": null,
            "grid_template_rows": null,
            "height": null,
            "justify_content": null,
            "justify_items": null,
            "left": null,
            "margin": null,
            "max_height": null,
            "max_width": null,
            "min_height": null,
            "min_width": null,
            "object_fit": null,
            "object_position": null,
            "order": null,
            "overflow": null,
            "overflow_x": null,
            "overflow_y": null,
            "padding": null,
            "right": null,
            "top": null,
            "visibility": null,
            "width": null
          }
        },
        "376561945d1c49d6948bbbd25fe01e88": {
          "model_module": "@jupyter-widgets/base",
          "model_name": "LayoutModel",
          "model_module_version": "1.2.0",
          "state": {
            "_model_module": "@jupyter-widgets/base",
            "_model_module_version": "1.2.0",
            "_model_name": "LayoutModel",
            "_view_count": null,
            "_view_module": "@jupyter-widgets/base",
            "_view_module_version": "1.2.0",
            "_view_name": "LayoutView",
            "align_content": null,
            "align_items": null,
            "align_self": null,
            "border": null,
            "bottom": null,
            "display": null,
            "flex": null,
            "flex_flow": null,
            "grid_area": null,
            "grid_auto_columns": null,
            "grid_auto_flow": null,
            "grid_auto_rows": null,
            "grid_column": null,
            "grid_gap": null,
            "grid_row": null,
            "grid_template_areas": null,
            "grid_template_columns": null,
            "grid_template_rows": null,
            "height": null,
            "justify_content": null,
            "justify_items": null,
            "left": null,
            "margin": null,
            "max_height": null,
            "max_width": null,
            "min_height": null,
            "min_width": null,
            "object_fit": null,
            "object_position": null,
            "order": null,
            "overflow": null,
            "overflow_x": null,
            "overflow_y": null,
            "padding": null,
            "right": null,
            "top": null,
            "visibility": null,
            "width": null
          }
        },
        "32a26baa6946495f90420f8166c15d16": {
          "model_module": "@jupyter-widgets/controls",
          "model_name": "DescriptionStyleModel",
          "model_module_version": "1.5.0",
          "state": {
            "_model_module": "@jupyter-widgets/controls",
            "_model_module_version": "1.5.0",
            "_model_name": "DescriptionStyleModel",
            "_view_count": null,
            "_view_module": "@jupyter-widgets/base",
            "_view_module_version": "1.2.0",
            "_view_name": "StyleView",
            "description_width": ""
          }
        },
        "f45d3510f80e4114b2b1c82eac85f8b7": {
          "model_module": "@jupyter-widgets/base",
          "model_name": "LayoutModel",
          "model_module_version": "1.2.0",
          "state": {
            "_model_module": "@jupyter-widgets/base",
            "_model_module_version": "1.2.0",
            "_model_name": "LayoutModel",
            "_view_count": null,
            "_view_module": "@jupyter-widgets/base",
            "_view_module_version": "1.2.0",
            "_view_name": "LayoutView",
            "align_content": null,
            "align_items": null,
            "align_self": null,
            "border": null,
            "bottom": null,
            "display": null,
            "flex": null,
            "flex_flow": null,
            "grid_area": null,
            "grid_auto_columns": null,
            "grid_auto_flow": null,
            "grid_auto_rows": null,
            "grid_column": null,
            "grid_gap": null,
            "grid_row": null,
            "grid_template_areas": null,
            "grid_template_columns": null,
            "grid_template_rows": null,
            "height": null,
            "justify_content": null,
            "justify_items": null,
            "left": null,
            "margin": null,
            "max_height": null,
            "max_width": null,
            "min_height": null,
            "min_width": null,
            "object_fit": null,
            "object_position": null,
            "order": null,
            "overflow": null,
            "overflow_x": null,
            "overflow_y": null,
            "padding": null,
            "right": null,
            "top": null,
            "visibility": null,
            "width": null
          }
        },
        "a8210e89e44b42ceba5b12d53f034d86": {
          "model_module": "@jupyter-widgets/controls",
          "model_name": "ProgressStyleModel",
          "model_module_version": "1.5.0",
          "state": {
            "_model_module": "@jupyter-widgets/controls",
            "_model_module_version": "1.5.0",
            "_model_name": "ProgressStyleModel",
            "_view_count": null,
            "_view_module": "@jupyter-widgets/base",
            "_view_module_version": "1.2.0",
            "_view_name": "StyleView",
            "bar_color": null,
            "description_width": ""
          }
        },
        "85bae3e6753b4f86b68ab38dc4e7ea7b": {
          "model_module": "@jupyter-widgets/base",
          "model_name": "LayoutModel",
          "model_module_version": "1.2.0",
          "state": {
            "_model_module": "@jupyter-widgets/base",
            "_model_module_version": "1.2.0",
            "_model_name": "LayoutModel",
            "_view_count": null,
            "_view_module": "@jupyter-widgets/base",
            "_view_module_version": "1.2.0",
            "_view_name": "LayoutView",
            "align_content": null,
            "align_items": null,
            "align_self": null,
            "border": null,
            "bottom": null,
            "display": null,
            "flex": null,
            "flex_flow": null,
            "grid_area": null,
            "grid_auto_columns": null,
            "grid_auto_flow": null,
            "grid_auto_rows": null,
            "grid_column": null,
            "grid_gap": null,
            "grid_row": null,
            "grid_template_areas": null,
            "grid_template_columns": null,
            "grid_template_rows": null,
            "height": null,
            "justify_content": null,
            "justify_items": null,
            "left": null,
            "margin": null,
            "max_height": null,
            "max_width": null,
            "min_height": null,
            "min_width": null,
            "object_fit": null,
            "object_position": null,
            "order": null,
            "overflow": null,
            "overflow_x": null,
            "overflow_y": null,
            "padding": null,
            "right": null,
            "top": null,
            "visibility": null,
            "width": null
          }
        },
        "f557a099da2b42528dcf3504c8922f8c": {
          "model_module": "@jupyter-widgets/controls",
          "model_name": "DescriptionStyleModel",
          "model_module_version": "1.5.0",
          "state": {
            "_model_module": "@jupyter-widgets/controls",
            "_model_module_version": "1.5.0",
            "_model_name": "DescriptionStyleModel",
            "_view_count": null,
            "_view_module": "@jupyter-widgets/base",
            "_view_module_version": "1.2.0",
            "_view_name": "StyleView",
            "description_width": ""
          }
        },
        "6fa720d35c804a128a70ae246846cb50": {
          "model_module": "@jupyter-widgets/controls",
          "model_name": "HBoxModel",
          "model_module_version": "1.5.0",
          "state": {
            "_dom_classes": [],
            "_model_module": "@jupyter-widgets/controls",
            "_model_module_version": "1.5.0",
            "_model_name": "HBoxModel",
            "_view_count": null,
            "_view_module": "@jupyter-widgets/controls",
            "_view_module_version": "1.5.0",
            "_view_name": "HBoxView",
            "box_style": "",
            "children": [
              "IPY_MODEL_e69a6d2050e24e61b94ef493826c170c",
              "IPY_MODEL_3eee447039ff4ba294142e70aba4286b",
              "IPY_MODEL_58d463c2297c485eb6fe975c4c415e86"
            ],
            "layout": "IPY_MODEL_9e872b2c3e7744da8ed971b003ae1466"
          }
        },
        "e69a6d2050e24e61b94ef493826c170c": {
          "model_module": "@jupyter-widgets/controls",
          "model_name": "HTMLModel",
          "model_module_version": "1.5.0",
          "state": {
            "_dom_classes": [],
            "_model_module": "@jupyter-widgets/controls",
            "_model_module_version": "1.5.0",
            "_model_name": "HTMLModel",
            "_view_count": null,
            "_view_module": "@jupyter-widgets/controls",
            "_view_module_version": "1.5.0",
            "_view_name": "HTMLView",
            "description": "",
            "description_tooltip": null,
            "layout": "IPY_MODEL_14dff004b79843f5b406ccb2ed81c704",
            "placeholder": "​",
            "style": "IPY_MODEL_ce2bdec20ea143e29ec3c21cffe7b03d",
            "value": "Downloading (…)okenizer_config.json: 100%"
          }
        },
        "3eee447039ff4ba294142e70aba4286b": {
          "model_module": "@jupyter-widgets/controls",
          "model_name": "FloatProgressModel",
          "model_module_version": "1.5.0",
          "state": {
            "_dom_classes": [],
            "_model_module": "@jupyter-widgets/controls",
            "_model_module_version": "1.5.0",
            "_model_name": "FloatProgressModel",
            "_view_count": null,
            "_view_module": "@jupyter-widgets/controls",
            "_view_module_version": "1.5.0",
            "_view_name": "ProgressView",
            "bar_style": "success",
            "description": "",
            "description_tooltip": null,
            "layout": "IPY_MODEL_44053768fae34b5688f70d6a9bc53352",
            "max": 28,
            "min": 0,
            "orientation": "horizontal",
            "style": "IPY_MODEL_428cfc8544d94440a8f28caf8c31fbbb",
            "value": 28
          }
        },
        "58d463c2297c485eb6fe975c4c415e86": {
          "model_module": "@jupyter-widgets/controls",
          "model_name": "HTMLModel",
          "model_module_version": "1.5.0",
          "state": {
            "_dom_classes": [],
            "_model_module": "@jupyter-widgets/controls",
            "_model_module_version": "1.5.0",
            "_model_name": "HTMLModel",
            "_view_count": null,
            "_view_module": "@jupyter-widgets/controls",
            "_view_module_version": "1.5.0",
            "_view_name": "HTMLView",
            "description": "",
            "description_tooltip": null,
            "layout": "IPY_MODEL_ffad99155085407fa95e9df2418d516f",
            "placeholder": "​",
            "style": "IPY_MODEL_7fdcae3f1078484c84efad7457e6552d",
            "value": " 28.0/28.0 [00:00&lt;00:00, 1.74kB/s]"
          }
        },
        "9e872b2c3e7744da8ed971b003ae1466": {
          "model_module": "@jupyter-widgets/base",
          "model_name": "LayoutModel",
          "model_module_version": "1.2.0",
          "state": {
            "_model_module": "@jupyter-widgets/base",
            "_model_module_version": "1.2.0",
            "_model_name": "LayoutModel",
            "_view_count": null,
            "_view_module": "@jupyter-widgets/base",
            "_view_module_version": "1.2.0",
            "_view_name": "LayoutView",
            "align_content": null,
            "align_items": null,
            "align_self": null,
            "border": null,
            "bottom": null,
            "display": null,
            "flex": null,
            "flex_flow": null,
            "grid_area": null,
            "grid_auto_columns": null,
            "grid_auto_flow": null,
            "grid_auto_rows": null,
            "grid_column": null,
            "grid_gap": null,
            "grid_row": null,
            "grid_template_areas": null,
            "grid_template_columns": null,
            "grid_template_rows": null,
            "height": null,
            "justify_content": null,
            "justify_items": null,
            "left": null,
            "margin": null,
            "max_height": null,
            "max_width": null,
            "min_height": null,
            "min_width": null,
            "object_fit": null,
            "object_position": null,
            "order": null,
            "overflow": null,
            "overflow_x": null,
            "overflow_y": null,
            "padding": null,
            "right": null,
            "top": null,
            "visibility": null,
            "width": null
          }
        },
        "14dff004b79843f5b406ccb2ed81c704": {
          "model_module": "@jupyter-widgets/base",
          "model_name": "LayoutModel",
          "model_module_version": "1.2.0",
          "state": {
            "_model_module": "@jupyter-widgets/base",
            "_model_module_version": "1.2.0",
            "_model_name": "LayoutModel",
            "_view_count": null,
            "_view_module": "@jupyter-widgets/base",
            "_view_module_version": "1.2.0",
            "_view_name": "LayoutView",
            "align_content": null,
            "align_items": null,
            "align_self": null,
            "border": null,
            "bottom": null,
            "display": null,
            "flex": null,
            "flex_flow": null,
            "grid_area": null,
            "grid_auto_columns": null,
            "grid_auto_flow": null,
            "grid_auto_rows": null,
            "grid_column": null,
            "grid_gap": null,
            "grid_row": null,
            "grid_template_areas": null,
            "grid_template_columns": null,
            "grid_template_rows": null,
            "height": null,
            "justify_content": null,
            "justify_items": null,
            "left": null,
            "margin": null,
            "max_height": null,
            "max_width": null,
            "min_height": null,
            "min_width": null,
            "object_fit": null,
            "object_position": null,
            "order": null,
            "overflow": null,
            "overflow_x": null,
            "overflow_y": null,
            "padding": null,
            "right": null,
            "top": null,
            "visibility": null,
            "width": null
          }
        },
        "ce2bdec20ea143e29ec3c21cffe7b03d": {
          "model_module": "@jupyter-widgets/controls",
          "model_name": "DescriptionStyleModel",
          "model_module_version": "1.5.0",
          "state": {
            "_model_module": "@jupyter-widgets/controls",
            "_model_module_version": "1.5.0",
            "_model_name": "DescriptionStyleModel",
            "_view_count": null,
            "_view_module": "@jupyter-widgets/base",
            "_view_module_version": "1.2.0",
            "_view_name": "StyleView",
            "description_width": ""
          }
        },
        "44053768fae34b5688f70d6a9bc53352": {
          "model_module": "@jupyter-widgets/base",
          "model_name": "LayoutModel",
          "model_module_version": "1.2.0",
          "state": {
            "_model_module": "@jupyter-widgets/base",
            "_model_module_version": "1.2.0",
            "_model_name": "LayoutModel",
            "_view_count": null,
            "_view_module": "@jupyter-widgets/base",
            "_view_module_version": "1.2.0",
            "_view_name": "LayoutView",
            "align_content": null,
            "align_items": null,
            "align_self": null,
            "border": null,
            "bottom": null,
            "display": null,
            "flex": null,
            "flex_flow": null,
            "grid_area": null,
            "grid_auto_columns": null,
            "grid_auto_flow": null,
            "grid_auto_rows": null,
            "grid_column": null,
            "grid_gap": null,
            "grid_row": null,
            "grid_template_areas": null,
            "grid_template_columns": null,
            "grid_template_rows": null,
            "height": null,
            "justify_content": null,
            "justify_items": null,
            "left": null,
            "margin": null,
            "max_height": null,
            "max_width": null,
            "min_height": null,
            "min_width": null,
            "object_fit": null,
            "object_position": null,
            "order": null,
            "overflow": null,
            "overflow_x": null,
            "overflow_y": null,
            "padding": null,
            "right": null,
            "top": null,
            "visibility": null,
            "width": null
          }
        },
        "428cfc8544d94440a8f28caf8c31fbbb": {
          "model_module": "@jupyter-widgets/controls",
          "model_name": "ProgressStyleModel",
          "model_module_version": "1.5.0",
          "state": {
            "_model_module": "@jupyter-widgets/controls",
            "_model_module_version": "1.5.0",
            "_model_name": "ProgressStyleModel",
            "_view_count": null,
            "_view_module": "@jupyter-widgets/base",
            "_view_module_version": "1.2.0",
            "_view_name": "StyleView",
            "bar_color": null,
            "description_width": ""
          }
        },
        "ffad99155085407fa95e9df2418d516f": {
          "model_module": "@jupyter-widgets/base",
          "model_name": "LayoutModel",
          "model_module_version": "1.2.0",
          "state": {
            "_model_module": "@jupyter-widgets/base",
            "_model_module_version": "1.2.0",
            "_model_name": "LayoutModel",
            "_view_count": null,
            "_view_module": "@jupyter-widgets/base",
            "_view_module_version": "1.2.0",
            "_view_name": "LayoutView",
            "align_content": null,
            "align_items": null,
            "align_self": null,
            "border": null,
            "bottom": null,
            "display": null,
            "flex": null,
            "flex_flow": null,
            "grid_area": null,
            "grid_auto_columns": null,
            "grid_auto_flow": null,
            "grid_auto_rows": null,
            "grid_column": null,
            "grid_gap": null,
            "grid_row": null,
            "grid_template_areas": null,
            "grid_template_columns": null,
            "grid_template_rows": null,
            "height": null,
            "justify_content": null,
            "justify_items": null,
            "left": null,
            "margin": null,
            "max_height": null,
            "max_width": null,
            "min_height": null,
            "min_width": null,
            "object_fit": null,
            "object_position": null,
            "order": null,
            "overflow": null,
            "overflow_x": null,
            "overflow_y": null,
            "padding": null,
            "right": null,
            "top": null,
            "visibility": null,
            "width": null
          }
        },
        "7fdcae3f1078484c84efad7457e6552d": {
          "model_module": "@jupyter-widgets/controls",
          "model_name": "DescriptionStyleModel",
          "model_module_version": "1.5.0",
          "state": {
            "_model_module": "@jupyter-widgets/controls",
            "_model_module_version": "1.5.0",
            "_model_name": "DescriptionStyleModel",
            "_view_count": null,
            "_view_module": "@jupyter-widgets/base",
            "_view_module_version": "1.2.0",
            "_view_name": "StyleView",
            "description_width": ""
          }
        },
        "f6c3d4f0743c40aa89586c9de0d59fb3": {
          "model_module": "@jupyter-widgets/controls",
          "model_name": "HBoxModel",
          "model_module_version": "1.5.0",
          "state": {
            "_dom_classes": [],
            "_model_module": "@jupyter-widgets/controls",
            "_model_module_version": "1.5.0",
            "_model_name": "HBoxModel",
            "_view_count": null,
            "_view_module": "@jupyter-widgets/controls",
            "_view_module_version": "1.5.0",
            "_view_name": "HBoxView",
            "box_style": "",
            "children": [
              "IPY_MODEL_1592f2a55c7a484dbe56f1572e1a3ae7",
              "IPY_MODEL_775fbfb0108f4a27bcd6ec5bec6e580d",
              "IPY_MODEL_977707db35924437b4b7823715a78603"
            ],
            "layout": "IPY_MODEL_d4838c7c24c042f28d0987d127256c9b"
          }
        },
        "1592f2a55c7a484dbe56f1572e1a3ae7": {
          "model_module": "@jupyter-widgets/controls",
          "model_name": "HTMLModel",
          "model_module_version": "1.5.0",
          "state": {
            "_dom_classes": [],
            "_model_module": "@jupyter-widgets/controls",
            "_model_module_version": "1.5.0",
            "_model_name": "HTMLModel",
            "_view_count": null,
            "_view_module": "@jupyter-widgets/controls",
            "_view_module_version": "1.5.0",
            "_view_name": "HTMLView",
            "description": "",
            "description_tooltip": null,
            "layout": "IPY_MODEL_d7edfc00d9764122b54be60d4867b2c1",
            "placeholder": "​",
            "style": "IPY_MODEL_1ba3b647471747328d7ea464be450902",
            "value": "Downloading (…)solve/main/vocab.txt: 100%"
          }
        },
        "775fbfb0108f4a27bcd6ec5bec6e580d": {
          "model_module": "@jupyter-widgets/controls",
          "model_name": "FloatProgressModel",
          "model_module_version": "1.5.0",
          "state": {
            "_dom_classes": [],
            "_model_module": "@jupyter-widgets/controls",
            "_model_module_version": "1.5.0",
            "_model_name": "FloatProgressModel",
            "_view_count": null,
            "_view_module": "@jupyter-widgets/controls",
            "_view_module_version": "1.5.0",
            "_view_name": "ProgressView",
            "bar_style": "success",
            "description": "",
            "description_tooltip": null,
            "layout": "IPY_MODEL_bf4f3ff46ac8497c96263c26e7c95249",
            "max": 231508,
            "min": 0,
            "orientation": "horizontal",
            "style": "IPY_MODEL_2706751b43a646da98d0a082d6e11ba0",
            "value": 231508
          }
        },
        "977707db35924437b4b7823715a78603": {
          "model_module": "@jupyter-widgets/controls",
          "model_name": "HTMLModel",
          "model_module_version": "1.5.0",
          "state": {
            "_dom_classes": [],
            "_model_module": "@jupyter-widgets/controls",
            "_model_module_version": "1.5.0",
            "_model_name": "HTMLModel",
            "_view_count": null,
            "_view_module": "@jupyter-widgets/controls",
            "_view_module_version": "1.5.0",
            "_view_name": "HTMLView",
            "description": "",
            "description_tooltip": null,
            "layout": "IPY_MODEL_f60121d6398d49ac881623298dd606a1",
            "placeholder": "​",
            "style": "IPY_MODEL_8d6dc561d40a440ea564aff796ac9434",
            "value": " 232k/232k [00:00&lt;00:00, 1.45MB/s]"
          }
        },
        "d4838c7c24c042f28d0987d127256c9b": {
          "model_module": "@jupyter-widgets/base",
          "model_name": "LayoutModel",
          "model_module_version": "1.2.0",
          "state": {
            "_model_module": "@jupyter-widgets/base",
            "_model_module_version": "1.2.0",
            "_model_name": "LayoutModel",
            "_view_count": null,
            "_view_module": "@jupyter-widgets/base",
            "_view_module_version": "1.2.0",
            "_view_name": "LayoutView",
            "align_content": null,
            "align_items": null,
            "align_self": null,
            "border": null,
            "bottom": null,
            "display": null,
            "flex": null,
            "flex_flow": null,
            "grid_area": null,
            "grid_auto_columns": null,
            "grid_auto_flow": null,
            "grid_auto_rows": null,
            "grid_column": null,
            "grid_gap": null,
            "grid_row": null,
            "grid_template_areas": null,
            "grid_template_columns": null,
            "grid_template_rows": null,
            "height": null,
            "justify_content": null,
            "justify_items": null,
            "left": null,
            "margin": null,
            "max_height": null,
            "max_width": null,
            "min_height": null,
            "min_width": null,
            "object_fit": null,
            "object_position": null,
            "order": null,
            "overflow": null,
            "overflow_x": null,
            "overflow_y": null,
            "padding": null,
            "right": null,
            "top": null,
            "visibility": null,
            "width": null
          }
        },
        "d7edfc00d9764122b54be60d4867b2c1": {
          "model_module": "@jupyter-widgets/base",
          "model_name": "LayoutModel",
          "model_module_version": "1.2.0",
          "state": {
            "_model_module": "@jupyter-widgets/base",
            "_model_module_version": "1.2.0",
            "_model_name": "LayoutModel",
            "_view_count": null,
            "_view_module": "@jupyter-widgets/base",
            "_view_module_version": "1.2.0",
            "_view_name": "LayoutView",
            "align_content": null,
            "align_items": null,
            "align_self": null,
            "border": null,
            "bottom": null,
            "display": null,
            "flex": null,
            "flex_flow": null,
            "grid_area": null,
            "grid_auto_columns": null,
            "grid_auto_flow": null,
            "grid_auto_rows": null,
            "grid_column": null,
            "grid_gap": null,
            "grid_row": null,
            "grid_template_areas": null,
            "grid_template_columns": null,
            "grid_template_rows": null,
            "height": null,
            "justify_content": null,
            "justify_items": null,
            "left": null,
            "margin": null,
            "max_height": null,
            "max_width": null,
            "min_height": null,
            "min_width": null,
            "object_fit": null,
            "object_position": null,
            "order": null,
            "overflow": null,
            "overflow_x": null,
            "overflow_y": null,
            "padding": null,
            "right": null,
            "top": null,
            "visibility": null,
            "width": null
          }
        },
        "1ba3b647471747328d7ea464be450902": {
          "model_module": "@jupyter-widgets/controls",
          "model_name": "DescriptionStyleModel",
          "model_module_version": "1.5.0",
          "state": {
            "_model_module": "@jupyter-widgets/controls",
            "_model_module_version": "1.5.0",
            "_model_name": "DescriptionStyleModel",
            "_view_count": null,
            "_view_module": "@jupyter-widgets/base",
            "_view_module_version": "1.2.0",
            "_view_name": "StyleView",
            "description_width": ""
          }
        },
        "bf4f3ff46ac8497c96263c26e7c95249": {
          "model_module": "@jupyter-widgets/base",
          "model_name": "LayoutModel",
          "model_module_version": "1.2.0",
          "state": {
            "_model_module": "@jupyter-widgets/base",
            "_model_module_version": "1.2.0",
            "_model_name": "LayoutModel",
            "_view_count": null,
            "_view_module": "@jupyter-widgets/base",
            "_view_module_version": "1.2.0",
            "_view_name": "LayoutView",
            "align_content": null,
            "align_items": null,
            "align_self": null,
            "border": null,
            "bottom": null,
            "display": null,
            "flex": null,
            "flex_flow": null,
            "grid_area": null,
            "grid_auto_columns": null,
            "grid_auto_flow": null,
            "grid_auto_rows": null,
            "grid_column": null,
            "grid_gap": null,
            "grid_row": null,
            "grid_template_areas": null,
            "grid_template_columns": null,
            "grid_template_rows": null,
            "height": null,
            "justify_content": null,
            "justify_items": null,
            "left": null,
            "margin": null,
            "max_height": null,
            "max_width": null,
            "min_height": null,
            "min_width": null,
            "object_fit": null,
            "object_position": null,
            "order": null,
            "overflow": null,
            "overflow_x": null,
            "overflow_y": null,
            "padding": null,
            "right": null,
            "top": null,
            "visibility": null,
            "width": null
          }
        },
        "2706751b43a646da98d0a082d6e11ba0": {
          "model_module": "@jupyter-widgets/controls",
          "model_name": "ProgressStyleModel",
          "model_module_version": "1.5.0",
          "state": {
            "_model_module": "@jupyter-widgets/controls",
            "_model_module_version": "1.5.0",
            "_model_name": "ProgressStyleModel",
            "_view_count": null,
            "_view_module": "@jupyter-widgets/base",
            "_view_module_version": "1.2.0",
            "_view_name": "StyleView",
            "bar_color": null,
            "description_width": ""
          }
        },
        "f60121d6398d49ac881623298dd606a1": {
          "model_module": "@jupyter-widgets/base",
          "model_name": "LayoutModel",
          "model_module_version": "1.2.0",
          "state": {
            "_model_module": "@jupyter-widgets/base",
            "_model_module_version": "1.2.0",
            "_model_name": "LayoutModel",
            "_view_count": null,
            "_view_module": "@jupyter-widgets/base",
            "_view_module_version": "1.2.0",
            "_view_name": "LayoutView",
            "align_content": null,
            "align_items": null,
            "align_self": null,
            "border": null,
            "bottom": null,
            "display": null,
            "flex": null,
            "flex_flow": null,
            "grid_area": null,
            "grid_auto_columns": null,
            "grid_auto_flow": null,
            "grid_auto_rows": null,
            "grid_column": null,
            "grid_gap": null,
            "grid_row": null,
            "grid_template_areas": null,
            "grid_template_columns": null,
            "grid_template_rows": null,
            "height": null,
            "justify_content": null,
            "justify_items": null,
            "left": null,
            "margin": null,
            "max_height": null,
            "max_width": null,
            "min_height": null,
            "min_width": null,
            "object_fit": null,
            "object_position": null,
            "order": null,
            "overflow": null,
            "overflow_x": null,
            "overflow_y": null,
            "padding": null,
            "right": null,
            "top": null,
            "visibility": null,
            "width": null
          }
        },
        "8d6dc561d40a440ea564aff796ac9434": {
          "model_module": "@jupyter-widgets/controls",
          "model_name": "DescriptionStyleModel",
          "model_module_version": "1.5.0",
          "state": {
            "_model_module": "@jupyter-widgets/controls",
            "_model_module_version": "1.5.0",
            "_model_name": "DescriptionStyleModel",
            "_view_count": null,
            "_view_module": "@jupyter-widgets/base",
            "_view_module_version": "1.2.0",
            "_view_name": "StyleView",
            "description_width": ""
          }
        },
        "e6d16202c08f447ca2d4cb9654daec0b": {
          "model_module": "@jupyter-widgets/controls",
          "model_name": "HBoxModel",
          "model_module_version": "1.5.0",
          "state": {
            "_dom_classes": [],
            "_model_module": "@jupyter-widgets/controls",
            "_model_module_version": "1.5.0",
            "_model_name": "HBoxModel",
            "_view_count": null,
            "_view_module": "@jupyter-widgets/controls",
            "_view_module_version": "1.5.0",
            "_view_name": "HBoxView",
            "box_style": "",
            "children": [
              "IPY_MODEL_c72f383d091c4546a24749125ae0a81c",
              "IPY_MODEL_ca98733f22794299a1b594670e44ed9e",
              "IPY_MODEL_873f2b57ca964d2e9373933c295080a0"
            ],
            "layout": "IPY_MODEL_5f76c2041c514d6c9b4b6e28d30df94e"
          }
        },
        "c72f383d091c4546a24749125ae0a81c": {
          "model_module": "@jupyter-widgets/controls",
          "model_name": "HTMLModel",
          "model_module_version": "1.5.0",
          "state": {
            "_dom_classes": [],
            "_model_module": "@jupyter-widgets/controls",
            "_model_module_version": "1.5.0",
            "_model_name": "HTMLModel",
            "_view_count": null,
            "_view_module": "@jupyter-widgets/controls",
            "_view_module_version": "1.5.0",
            "_view_name": "HTMLView",
            "description": "",
            "description_tooltip": null,
            "layout": "IPY_MODEL_9ab3c823191044bbb29aec919409d98a",
            "placeholder": "​",
            "style": "IPY_MODEL_a496c935804b47ee9545f162ebd41d5c",
            "value": "Downloading (…)/main/tokenizer.json: 100%"
          }
        },
        "ca98733f22794299a1b594670e44ed9e": {
          "model_module": "@jupyter-widgets/controls",
          "model_name": "FloatProgressModel",
          "model_module_version": "1.5.0",
          "state": {
            "_dom_classes": [],
            "_model_module": "@jupyter-widgets/controls",
            "_model_module_version": "1.5.0",
            "_model_name": "FloatProgressModel",
            "_view_count": null,
            "_view_module": "@jupyter-widgets/controls",
            "_view_module_version": "1.5.0",
            "_view_name": "ProgressView",
            "bar_style": "success",
            "description": "",
            "description_tooltip": null,
            "layout": "IPY_MODEL_99921560476d43278d5ecf5c337a0909",
            "max": 466062,
            "min": 0,
            "orientation": "horizontal",
            "style": "IPY_MODEL_22828ccd66694761a74c4430c1aadfde",
            "value": 466062
          }
        },
        "873f2b57ca964d2e9373933c295080a0": {
          "model_module": "@jupyter-widgets/controls",
          "model_name": "HTMLModel",
          "model_module_version": "1.5.0",
          "state": {
            "_dom_classes": [],
            "_model_module": "@jupyter-widgets/controls",
            "_model_module_version": "1.5.0",
            "_model_name": "HTMLModel",
            "_view_count": null,
            "_view_module": "@jupyter-widgets/controls",
            "_view_module_version": "1.5.0",
            "_view_name": "HTMLView",
            "description": "",
            "description_tooltip": null,
            "layout": "IPY_MODEL_7903f12768ac4f32bb823438e68d9052",
            "placeholder": "​",
            "style": "IPY_MODEL_1b704ae03c714fd1b5b93cab1ca1cba6",
            "value": " 466k/466k [00:00&lt;00:00, 24.6MB/s]"
          }
        },
        "5f76c2041c514d6c9b4b6e28d30df94e": {
          "model_module": "@jupyter-widgets/base",
          "model_name": "LayoutModel",
          "model_module_version": "1.2.0",
          "state": {
            "_model_module": "@jupyter-widgets/base",
            "_model_module_version": "1.2.0",
            "_model_name": "LayoutModel",
            "_view_count": null,
            "_view_module": "@jupyter-widgets/base",
            "_view_module_version": "1.2.0",
            "_view_name": "LayoutView",
            "align_content": null,
            "align_items": null,
            "align_self": null,
            "border": null,
            "bottom": null,
            "display": null,
            "flex": null,
            "flex_flow": null,
            "grid_area": null,
            "grid_auto_columns": null,
            "grid_auto_flow": null,
            "grid_auto_rows": null,
            "grid_column": null,
            "grid_gap": null,
            "grid_row": null,
            "grid_template_areas": null,
            "grid_template_columns": null,
            "grid_template_rows": null,
            "height": null,
            "justify_content": null,
            "justify_items": null,
            "left": null,
            "margin": null,
            "max_height": null,
            "max_width": null,
            "min_height": null,
            "min_width": null,
            "object_fit": null,
            "object_position": null,
            "order": null,
            "overflow": null,
            "overflow_x": null,
            "overflow_y": null,
            "padding": null,
            "right": null,
            "top": null,
            "visibility": null,
            "width": null
          }
        },
        "9ab3c823191044bbb29aec919409d98a": {
          "model_module": "@jupyter-widgets/base",
          "model_name": "LayoutModel",
          "model_module_version": "1.2.0",
          "state": {
            "_model_module": "@jupyter-widgets/base",
            "_model_module_version": "1.2.0",
            "_model_name": "LayoutModel",
            "_view_count": null,
            "_view_module": "@jupyter-widgets/base",
            "_view_module_version": "1.2.0",
            "_view_name": "LayoutView",
            "align_content": null,
            "align_items": null,
            "align_self": null,
            "border": null,
            "bottom": null,
            "display": null,
            "flex": null,
            "flex_flow": null,
            "grid_area": null,
            "grid_auto_columns": null,
            "grid_auto_flow": null,
            "grid_auto_rows": null,
            "grid_column": null,
            "grid_gap": null,
            "grid_row": null,
            "grid_template_areas": null,
            "grid_template_columns": null,
            "grid_template_rows": null,
            "height": null,
            "justify_content": null,
            "justify_items": null,
            "left": null,
            "margin": null,
            "max_height": null,
            "max_width": null,
            "min_height": null,
            "min_width": null,
            "object_fit": null,
            "object_position": null,
            "order": null,
            "overflow": null,
            "overflow_x": null,
            "overflow_y": null,
            "padding": null,
            "right": null,
            "top": null,
            "visibility": null,
            "width": null
          }
        },
        "a496c935804b47ee9545f162ebd41d5c": {
          "model_module": "@jupyter-widgets/controls",
          "model_name": "DescriptionStyleModel",
          "model_module_version": "1.5.0",
          "state": {
            "_model_module": "@jupyter-widgets/controls",
            "_model_module_version": "1.5.0",
            "_model_name": "DescriptionStyleModel",
            "_view_count": null,
            "_view_module": "@jupyter-widgets/base",
            "_view_module_version": "1.2.0",
            "_view_name": "StyleView",
            "description_width": ""
          }
        },
        "99921560476d43278d5ecf5c337a0909": {
          "model_module": "@jupyter-widgets/base",
          "model_name": "LayoutModel",
          "model_module_version": "1.2.0",
          "state": {
            "_model_module": "@jupyter-widgets/base",
            "_model_module_version": "1.2.0",
            "_model_name": "LayoutModel",
            "_view_count": null,
            "_view_module": "@jupyter-widgets/base",
            "_view_module_version": "1.2.0",
            "_view_name": "LayoutView",
            "align_content": null,
            "align_items": null,
            "align_self": null,
            "border": null,
            "bottom": null,
            "display": null,
            "flex": null,
            "flex_flow": null,
            "grid_area": null,
            "grid_auto_columns": null,
            "grid_auto_flow": null,
            "grid_auto_rows": null,
            "grid_column": null,
            "grid_gap": null,
            "grid_row": null,
            "grid_template_areas": null,
            "grid_template_columns": null,
            "grid_template_rows": null,
            "height": null,
            "justify_content": null,
            "justify_items": null,
            "left": null,
            "margin": null,
            "max_height": null,
            "max_width": null,
            "min_height": null,
            "min_width": null,
            "object_fit": null,
            "object_position": null,
            "order": null,
            "overflow": null,
            "overflow_x": null,
            "overflow_y": null,
            "padding": null,
            "right": null,
            "top": null,
            "visibility": null,
            "width": null
          }
        },
        "22828ccd66694761a74c4430c1aadfde": {
          "model_module": "@jupyter-widgets/controls",
          "model_name": "ProgressStyleModel",
          "model_module_version": "1.5.0",
          "state": {
            "_model_module": "@jupyter-widgets/controls",
            "_model_module_version": "1.5.0",
            "_model_name": "ProgressStyleModel",
            "_view_count": null,
            "_view_module": "@jupyter-widgets/base",
            "_view_module_version": "1.2.0",
            "_view_name": "StyleView",
            "bar_color": null,
            "description_width": ""
          }
        },
        "7903f12768ac4f32bb823438e68d9052": {
          "model_module": "@jupyter-widgets/base",
          "model_name": "LayoutModel",
          "model_module_version": "1.2.0",
          "state": {
            "_model_module": "@jupyter-widgets/base",
            "_model_module_version": "1.2.0",
            "_model_name": "LayoutModel",
            "_view_count": null,
            "_view_module": "@jupyter-widgets/base",
            "_view_module_version": "1.2.0",
            "_view_name": "LayoutView",
            "align_content": null,
            "align_items": null,
            "align_self": null,
            "border": null,
            "bottom": null,
            "display": null,
            "flex": null,
            "flex_flow": null,
            "grid_area": null,
            "grid_auto_columns": null,
            "grid_auto_flow": null,
            "grid_auto_rows": null,
            "grid_column": null,
            "grid_gap": null,
            "grid_row": null,
            "grid_template_areas": null,
            "grid_template_columns": null,
            "grid_template_rows": null,
            "height": null,
            "justify_content": null,
            "justify_items": null,
            "left": null,
            "margin": null,
            "max_height": null,
            "max_width": null,
            "min_height": null,
            "min_width": null,
            "object_fit": null,
            "object_position": null,
            "order": null,
            "overflow": null,
            "overflow_x": null,
            "overflow_y": null,
            "padding": null,
            "right": null,
            "top": null,
            "visibility": null,
            "width": null
          }
        },
        "1b704ae03c714fd1b5b93cab1ca1cba6": {
          "model_module": "@jupyter-widgets/controls",
          "model_name": "DescriptionStyleModel",
          "model_module_version": "1.5.0",
          "state": {
            "_model_module": "@jupyter-widgets/controls",
            "_model_module_version": "1.5.0",
            "_model_name": "DescriptionStyleModel",
            "_view_count": null,
            "_view_module": "@jupyter-widgets/base",
            "_view_module_version": "1.2.0",
            "_view_name": "StyleView",
            "description_width": ""
          }
        }
      }
    }
  },
  "nbformat": 4,
  "nbformat_minor": 0
}