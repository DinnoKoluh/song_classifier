{
 "cells": [
  {
   "attachments": {},
   "cell_type": "markdown",
   "metadata": {},
   "source": [
    "<h1> <center> Project work in Deep Learning </center> </h1> \n",
    "<h2> <center> Song Lyrics Classification Based on Genres </center> </h2>\n",
    "\n",
    "<h3> Student: Dinno Koluh (0001034376)</h3>\n",
    "\n",
    "<p>\n",
    "In this project we are going classify songs into genres based on their lyrics. This is inherently a task in the area of NLP (Natural Language Processing), more specifically the *text classification* problem. \n",
    "<br>\n",
    "- Demographic indicators\n",
    "<br>\n",
    "</p>"
   ]
  },
  {
   "cell_type": "code",
   "execution_count": null,
   "metadata": {},
   "outputs": [],
   "source": []
  }
 ],
 "metadata": {
  "language_info": {
   "name": "python"
  },
  "orig_nbformat": 4
 },
 "nbformat": 4,
 "nbformat_minor": 2
}
